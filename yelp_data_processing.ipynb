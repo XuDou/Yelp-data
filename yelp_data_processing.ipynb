{
 "cells": [
  {
   "cell_type": "code",
   "execution_count": 2,
   "metadata": {},
   "outputs": [],
   "source": [
    "import pandas as pd\n",
    "import ijson\n",
    "import numpy as np\n",
    "import json\n",
    "import io\n",
    "import os"
   ]
  },
  {
   "cell_type": "code",
   "execution_count": 36,
   "metadata": {},
   "outputs": [
    {
     "name": "stdout",
     "output_type": "stream",
     "text": [
      "['.DS_Store',\n",
      " '.git',\n",
      " '.ipynb_checkpoints',\n",
      " 'Dataset_Challenge_Dataset_Agreement.pdf',\n",
      " 'LasVegas_tips_after2016.csv',\n",
      " 'LasVegas_tips_after2017.csv',\n",
      " 'Models.ipynb',\n",
      " 'name_review_counts.png',\n",
      " 'README.md',\n",
      " 'yelp_academic_dataset_business.json',\n",
      " 'yelp_academic_dataset_checkin.json',\n",
      " 'yelp_academic_dataset_photo.json',\n",
      " 'yelp_academic_dataset_review.json',\n",
      " 'yelp_academic_dataset_tip.json',\n",
      " 'yelp_academic_dataset_user.json',\n",
      " 'yelp_data_processing.ipynb',\n",
      " 'Yelp_Dataset_Challenge_Round_12.pdf']\n"
     ]
    }
   ],
   "source": [
    "dirlist = os.listdir(\"/Users/xudou/Desktop/python_learning/Yelp_project\")\n",
    "\n",
    "from pprint import pprint\n",
    "pprint(dirlist)"
   ]
  },
  {
   "cell_type": "code",
   "execution_count": 3,
   "metadata": {},
   "outputs": [],
   "source": [
    "file_tip, file_business = ['yelp_academic_dataset_tip.json','yelp_academic_dataset_business.json']"
   ]
  },
  {
   "cell_type": "code",
   "execution_count": 4,
   "metadata": {},
   "outputs": [],
   "source": [
    "#file_business, file_review, "
   ]
  },
  {
   "cell_type": "markdown",
   "metadata": {},
   "source": [
    "### Data of short tips"
   ]
  },
  {
   "cell_type": "markdown",
   "metadata": {},
   "source": [
    "We use these short tips to analyze the performances of businesses."
   ]
  },
  {
   "cell_type": "code",
   "execution_count": 5,
   "metadata": {},
   "outputs": [],
   "source": [
    "with open(file_tip) as f:\n",
    "    raw_data_tip = f.readlines()\n",
    "    \n",
    "# remove '\\n's in the original json file \n",
    "raw_data_tip = map(lambda x: x.rstrip(), raw_data_tip)\n",
    "\n",
    "data_tip_string = \"[\" + \",\".join(raw_data_tip) + \"]\"\n",
    "\n",
    "data_tip = pd.read_json(data_tip_string)"
   ]
  },
  {
   "cell_type": "code",
   "execution_count": 6,
   "metadata": {
    "scrolled": true
   },
   "outputs": [
    {
     "data": {
      "text/html": [
       "<div>\n",
       "<style scoped>\n",
       "    .dataframe tbody tr th:only-of-type {\n",
       "        vertical-align: middle;\n",
       "    }\n",
       "\n",
       "    .dataframe tbody tr th {\n",
       "        vertical-align: top;\n",
       "    }\n",
       "\n",
       "    .dataframe thead th {\n",
       "        text-align: right;\n",
       "    }\n",
       "</style>\n",
       "<table border=\"1\" class=\"dataframe\">\n",
       "  <thead>\n",
       "    <tr style=\"text-align: right;\">\n",
       "      <th></th>\n",
       "      <th>business_id</th>\n",
       "      <th>date</th>\n",
       "      <th>likes</th>\n",
       "      <th>text</th>\n",
       "      <th>user_id</th>\n",
       "    </tr>\n",
       "  </thead>\n",
       "  <tbody>\n",
       "    <tr>\n",
       "      <th>0</th>\n",
       "      <td>tJRDll5yqpZwehenzE2cSg</td>\n",
       "      <td>2012-07-15</td>\n",
       "      <td>0</td>\n",
       "      <td>Get here early enough to have dinner.</td>\n",
       "      <td>zcTZk7OG8ovAmh_fenH21g</td>\n",
       "    </tr>\n",
       "    <tr>\n",
       "      <th>1</th>\n",
       "      <td>2ThtBbeDqFkVi6LugUOcVA</td>\n",
       "      <td>2012-11-25</td>\n",
       "      <td>0</td>\n",
       "      <td>Don't use them! Double charged my boyfriend an...</td>\n",
       "      <td>M5n8mMFoeXjnJEV2gxyGGA</td>\n",
       "    </tr>\n",
       "    <tr>\n",
       "      <th>2</th>\n",
       "      <td>jH19V2I9fIslnNhDzPmdkA</td>\n",
       "      <td>2015-08-12</td>\n",
       "      <td>0</td>\n",
       "      <td>Great breakfast large portions and friendly wa...</td>\n",
       "      <td>ZcLKXikTHYOnYt5VYRO5sg</td>\n",
       "    </tr>\n",
       "    <tr>\n",
       "      <th>3</th>\n",
       "      <td>dAa0hB2yrnHzVmsCkN4YvQ</td>\n",
       "      <td>2014-06-20</td>\n",
       "      <td>0</td>\n",
       "      <td>Nice place. Great staff.  A fixture in the tow...</td>\n",
       "      <td>oaYhjqBbh18ZhU0bpyzSuw</td>\n",
       "    </tr>\n",
       "    <tr>\n",
       "      <th>4</th>\n",
       "      <td>dAa0hB2yrnHzVmsCkN4YvQ</td>\n",
       "      <td>2016-10-12</td>\n",
       "      <td>0</td>\n",
       "      <td>Happy hour 5-7 Monday - Friday</td>\n",
       "      <td>ulQ8Nyj7jCUR8M83SUMoRQ</td>\n",
       "    </tr>\n",
       "  </tbody>\n",
       "</table>\n",
       "</div>"
      ],
      "text/plain": [
       "              business_id       date  likes  \\\n",
       "0  tJRDll5yqpZwehenzE2cSg 2012-07-15      0   \n",
       "1  2ThtBbeDqFkVi6LugUOcVA 2012-11-25      0   \n",
       "2  jH19V2I9fIslnNhDzPmdkA 2015-08-12      0   \n",
       "3  dAa0hB2yrnHzVmsCkN4YvQ 2014-06-20      0   \n",
       "4  dAa0hB2yrnHzVmsCkN4YvQ 2016-10-12      0   \n",
       "\n",
       "                                                text                 user_id  \n",
       "0              Get here early enough to have dinner.  zcTZk7OG8ovAmh_fenH21g  \n",
       "1  Don't use them! Double charged my boyfriend an...  M5n8mMFoeXjnJEV2gxyGGA  \n",
       "2  Great breakfast large portions and friendly wa...  ZcLKXikTHYOnYt5VYRO5sg  \n",
       "3  Nice place. Great staff.  A fixture in the tow...  oaYhjqBbh18ZhU0bpyzSuw  \n",
       "4                     Happy hour 5-7 Monday - Friday  ulQ8Nyj7jCUR8M83SUMoRQ  "
      ]
     },
     "execution_count": 6,
     "metadata": {},
     "output_type": "execute_result"
    }
   ],
   "source": [
    "data_tip.head()"
   ]
  },
  {
   "cell_type": "code",
   "execution_count": 7,
   "metadata": {},
   "outputs": [
    {
     "data": {
      "text/plain": [
       "<pandas.core.groupby.groupby.DataFrameGroupBy object at 0x10ca2f7b8>"
      ]
     },
     "execution_count": 7,
     "metadata": {},
     "output_type": "execute_result"
    }
   ],
   "source": [
    "data_tip.groupby('business_id')"
   ]
  },
  {
   "cell_type": "code",
   "execution_count": 8,
   "metadata": {},
   "outputs": [
    {
     "data": {
      "text/plain": [
       "'Order extra gravy. Its the best thing ever!'"
      ]
     },
     "execution_count": 8,
     "metadata": {},
     "output_type": "execute_result"
    }
   ],
   "source": [
    "data_tip.iloc[100]['text']"
   ]
  },
  {
   "cell_type": "code",
   "execution_count": 9,
   "metadata": {},
   "outputs": [
    {
     "name": "stdout",
     "output_type": "stream",
     "text": [
      "<class 'pandas.core.frame.DataFrame'>\n",
      "RangeIndex: 1185348 entries, 0 to 1185347\n",
      "Data columns (total 5 columns):\n",
      "business_id    1185348 non-null object\n",
      "date           1185348 non-null datetime64[ns]\n",
      "likes          1185348 non-null int64\n",
      "text           1185348 non-null object\n",
      "user_id        1185348 non-null object\n",
      "dtypes: datetime64[ns](1), int64(1), object(3)\n",
      "memory usage: 45.2+ MB\n"
     ]
    }
   ],
   "source": [
    "data_tip.info()"
   ]
  },
  {
   "cell_type": "markdown",
   "metadata": {},
   "source": [
    "### Data of business"
   ]
  },
  {
   "cell_type": "code",
   "execution_count": 10,
   "metadata": {},
   "outputs": [],
   "source": [
    "with open(file_business) as f:\n",
    "    raw_data_business = f.readlines()\n",
    "    \n",
    "# remove '\\n's in the original json file \n",
    "raw_data_business = map(lambda x: x.rstrip(), raw_data_business)\n",
    "\n",
    "data_business_string = \"[\" + \",\".join(raw_data_business) + \"]\"\n",
    "\n",
    "data_business = pd.read_json(data_business_string)"
   ]
  },
  {
   "cell_type": "code",
   "execution_count": 11,
   "metadata": {},
   "outputs": [
    {
     "data": {
      "text/html": [
       "<div>\n",
       "<style scoped>\n",
       "    .dataframe tbody tr th:only-of-type {\n",
       "        vertical-align: middle;\n",
       "    }\n",
       "\n",
       "    .dataframe tbody tr th {\n",
       "        vertical-align: top;\n",
       "    }\n",
       "\n",
       "    .dataframe thead th {\n",
       "        text-align: right;\n",
       "    }\n",
       "</style>\n",
       "<table border=\"1\" class=\"dataframe\">\n",
       "  <thead>\n",
       "    <tr style=\"text-align: right;\">\n",
       "      <th></th>\n",
       "      <th>address</th>\n",
       "      <th>attributes</th>\n",
       "      <th>business_id</th>\n",
       "      <th>categories</th>\n",
       "      <th>city</th>\n",
       "      <th>hours</th>\n",
       "      <th>is_open</th>\n",
       "      <th>latitude</th>\n",
       "      <th>longitude</th>\n",
       "      <th>name</th>\n",
       "      <th>neighborhood</th>\n",
       "      <th>postal_code</th>\n",
       "      <th>review_count</th>\n",
       "      <th>stars</th>\n",
       "      <th>state</th>\n",
       "    </tr>\n",
       "  </thead>\n",
       "  <tbody>\n",
       "    <tr>\n",
       "      <th>0</th>\n",
       "      <td>1314 44 Avenue NE</td>\n",
       "      <td>{'BikeParking': 'False', 'BusinessAcceptsCredi...</td>\n",
       "      <td>Apn5Q_b6Nz61Tq4XzPdf9A</td>\n",
       "      <td>Tours, Breweries, Pizza, Restaurants, Food, Ho...</td>\n",
       "      <td>Calgary</td>\n",
       "      <td>{'Monday': '8:30-17:0', 'Tuesday': '11:0-21:0'...</td>\n",
       "      <td>1</td>\n",
       "      <td>51.091813</td>\n",
       "      <td>-114.031675</td>\n",
       "      <td>Minhas Micro Brewery</td>\n",
       "      <td></td>\n",
       "      <td>T2E 6L6</td>\n",
       "      <td>24</td>\n",
       "      <td>4.0</td>\n",
       "      <td>AB</td>\n",
       "    </tr>\n",
       "    <tr>\n",
       "      <th>1</th>\n",
       "      <td></td>\n",
       "      <td>{'Alcohol': 'none', 'BikeParking': 'False', 'B...</td>\n",
       "      <td>AjEbIBw6ZFfln7ePHha9PA</td>\n",
       "      <td>Chicken Wings, Burgers, Caterers, Street Vendo...</td>\n",
       "      <td>Henderson</td>\n",
       "      <td>{'Friday': '17:0-23:0', 'Saturday': '17:0-23:0...</td>\n",
       "      <td>0</td>\n",
       "      <td>35.960734</td>\n",
       "      <td>-114.939821</td>\n",
       "      <td>CK'S BBQ &amp; Catering</td>\n",
       "      <td></td>\n",
       "      <td>89002</td>\n",
       "      <td>3</td>\n",
       "      <td>4.5</td>\n",
       "      <td>NV</td>\n",
       "    </tr>\n",
       "    <tr>\n",
       "      <th>2</th>\n",
       "      <td>1335 rue Beaubien E</td>\n",
       "      <td>{'Alcohol': 'beer_and_wine', 'Ambience': '{'ro...</td>\n",
       "      <td>O8S5hYJ1SMc8fA4QBtVujA</td>\n",
       "      <td>Breakfast &amp; Brunch, Restaurants, French, Sandw...</td>\n",
       "      <td>Montréal</td>\n",
       "      <td>{'Monday': '10:0-22:0', 'Tuesday': '10:0-22:0'...</td>\n",
       "      <td>0</td>\n",
       "      <td>45.540503</td>\n",
       "      <td>-73.599300</td>\n",
       "      <td>La Bastringue</td>\n",
       "      <td>Rosemont-La Petite-Patrie</td>\n",
       "      <td>H2G 1K7</td>\n",
       "      <td>5</td>\n",
       "      <td>4.0</td>\n",
       "      <td>QC</td>\n",
       "    </tr>\n",
       "    <tr>\n",
       "      <th>3</th>\n",
       "      <td>211 W Monroe St</td>\n",
       "      <td>None</td>\n",
       "      <td>bFzdJJ3wp3PZssNEsyU23g</td>\n",
       "      <td>Insurance, Financial Services</td>\n",
       "      <td>Phoenix</td>\n",
       "      <td>None</td>\n",
       "      <td>1</td>\n",
       "      <td>33.449999</td>\n",
       "      <td>-112.076979</td>\n",
       "      <td>Geico Insurance</td>\n",
       "      <td></td>\n",
       "      <td>85003</td>\n",
       "      <td>8</td>\n",
       "      <td>1.5</td>\n",
       "      <td>AZ</td>\n",
       "    </tr>\n",
       "    <tr>\n",
       "      <th>4</th>\n",
       "      <td>2005 Alyth Place SE</td>\n",
       "      <td>{'BusinessAcceptsCreditCards': 'True'}</td>\n",
       "      <td>8USyCYqpScwiNEb58Bt6CA</td>\n",
       "      <td>Home &amp; Garden, Nurseries &amp; Gardening, Shopping...</td>\n",
       "      <td>Calgary</td>\n",
       "      <td>{'Monday': '8:0-17:0', 'Tuesday': '8:0-17:0', ...</td>\n",
       "      <td>1</td>\n",
       "      <td>51.035591</td>\n",
       "      <td>-114.027366</td>\n",
       "      <td>Action Engine</td>\n",
       "      <td></td>\n",
       "      <td>T2H 0N5</td>\n",
       "      <td>4</td>\n",
       "      <td>2.0</td>\n",
       "      <td>AB</td>\n",
       "    </tr>\n",
       "  </tbody>\n",
       "</table>\n",
       "</div>"
      ],
      "text/plain": [
       "               address                                         attributes  \\\n",
       "0    1314 44 Avenue NE  {'BikeParking': 'False', 'BusinessAcceptsCredi...   \n",
       "1                       {'Alcohol': 'none', 'BikeParking': 'False', 'B...   \n",
       "2  1335 rue Beaubien E  {'Alcohol': 'beer_and_wine', 'Ambience': '{'ro...   \n",
       "3      211 W Monroe St                                               None   \n",
       "4  2005 Alyth Place SE             {'BusinessAcceptsCreditCards': 'True'}   \n",
       "\n",
       "              business_id                                         categories  \\\n",
       "0  Apn5Q_b6Nz61Tq4XzPdf9A  Tours, Breweries, Pizza, Restaurants, Food, Ho...   \n",
       "1  AjEbIBw6ZFfln7ePHha9PA  Chicken Wings, Burgers, Caterers, Street Vendo...   \n",
       "2  O8S5hYJ1SMc8fA4QBtVujA  Breakfast & Brunch, Restaurants, French, Sandw...   \n",
       "3  bFzdJJ3wp3PZssNEsyU23g                      Insurance, Financial Services   \n",
       "4  8USyCYqpScwiNEb58Bt6CA  Home & Garden, Nurseries & Gardening, Shopping...   \n",
       "\n",
       "        city                                              hours  is_open  \\\n",
       "0    Calgary  {'Monday': '8:30-17:0', 'Tuesday': '11:0-21:0'...        1   \n",
       "1  Henderson  {'Friday': '17:0-23:0', 'Saturday': '17:0-23:0...        0   \n",
       "2   Montréal  {'Monday': '10:0-22:0', 'Tuesday': '10:0-22:0'...        0   \n",
       "3    Phoenix                                               None        1   \n",
       "4    Calgary  {'Monday': '8:0-17:0', 'Tuesday': '8:0-17:0', ...        1   \n",
       "\n",
       "    latitude   longitude                  name               neighborhood  \\\n",
       "0  51.091813 -114.031675  Minhas Micro Brewery                              \n",
       "1  35.960734 -114.939821   CK'S BBQ & Catering                              \n",
       "2  45.540503  -73.599300         La Bastringue  Rosemont-La Petite-Patrie   \n",
       "3  33.449999 -112.076979       Geico Insurance                              \n",
       "4  51.035591 -114.027366         Action Engine                              \n",
       "\n",
       "  postal_code  review_count  stars state  \n",
       "0     T2E 6L6            24    4.0    AB  \n",
       "1       89002             3    4.5    NV  \n",
       "2     H2G 1K7             5    4.0    QC  \n",
       "3       85003             8    1.5    AZ  \n",
       "4     T2H 0N5             4    2.0    AB  "
      ]
     },
     "execution_count": 11,
     "metadata": {},
     "output_type": "execute_result"
    }
   ],
   "source": [
    "data_business.head()"
   ]
  },
  {
   "cell_type": "code",
   "execution_count": 12,
   "metadata": {},
   "outputs": [
    {
     "data": {
      "text/plain": [
       "<pandas.core.groupby.groupby.DataFrameGroupBy object at 0x11c287ba8>"
      ]
     },
     "execution_count": 12,
     "metadata": {},
     "output_type": "execute_result"
    }
   ],
   "source": [
    "data_business.groupby('city')"
   ]
  },
  {
   "cell_type": "markdown",
   "metadata": {},
   "source": [
    "#### Count the number of different cities"
   ]
  },
  {
   "cell_type": "code",
   "execution_count": 13,
   "metadata": {},
   "outputs": [],
   "source": [
    "data_business.index\n",
    "lv = 0"
   ]
  },
  {
   "cell_type": "code",
   "execution_count": 14,
   "metadata": {},
   "outputs": [],
   "source": [
    "cities = set()\n",
    "for i in data_business.index:\n",
    "    if data_business.iloc[i]['city'] is not '':\n",
    "        cities.add(data_business.iloc[i]['city'])\n",
    "        if data_business.iloc[i]['city'] == 'Las Vegas':\n",
    "            lv += 1"
   ]
  },
  {
   "cell_type": "code",
   "execution_count": 15,
   "metadata": {},
   "outputs": [
    {
     "name": "stdout",
     "output_type": "stream",
     "text": [
      "28865\n"
     ]
    }
   ],
   "source": [
    "print(lv)"
   ]
  },
  {
   "cell_type": "code",
   "execution_count": 16,
   "metadata": {},
   "outputs": [
    {
     "data": {
      "text/plain": [
       "1110"
      ]
     },
     "execution_count": 16,
     "metadata": {},
     "output_type": "execute_result"
    }
   ],
   "source": [
    "len(cities)"
   ]
  },
  {
   "cell_type": "markdown",
   "metadata": {},
   "source": [
    "#### Collect data from \"Las Vegas\"\n",
    "We need to do a subset selection."
   ]
  },
  {
   "cell_type": "markdown",
   "metadata": {},
   "source": [
    "Merge business information dataset and tips dataset on \"business_id\""
   ]
  },
  {
   "cell_type": "code",
   "execution_count": 17,
   "metadata": {},
   "outputs": [],
   "source": [
    "merge_business_tips = pd.merge(data_tip[['business_id','text','date']],\n",
    "                               data_business[['attributes','business_id','categories','city','name','stars','review_count']],on='business_id')"
   ]
  },
  {
   "cell_type": "code",
   "execution_count": 18,
   "metadata": {},
   "outputs": [
    {
     "data": {
      "text/html": [
       "<div>\n",
       "<style scoped>\n",
       "    .dataframe tbody tr th:only-of-type {\n",
       "        vertical-align: middle;\n",
       "    }\n",
       "\n",
       "    .dataframe tbody tr th {\n",
       "        vertical-align: top;\n",
       "    }\n",
       "\n",
       "    .dataframe thead th {\n",
       "        text-align: right;\n",
       "    }\n",
       "</style>\n",
       "<table border=\"1\" class=\"dataframe\">\n",
       "  <thead>\n",
       "    <tr style=\"text-align: right;\">\n",
       "      <th></th>\n",
       "      <th>business_id</th>\n",
       "      <th>text</th>\n",
       "      <th>date</th>\n",
       "      <th>attributes</th>\n",
       "      <th>categories</th>\n",
       "      <th>city</th>\n",
       "      <th>name</th>\n",
       "      <th>stars</th>\n",
       "      <th>review_count</th>\n",
       "    </tr>\n",
       "  </thead>\n",
       "  <tbody>\n",
       "    <tr>\n",
       "      <th>0</th>\n",
       "      <td>tJRDll5yqpZwehenzE2cSg</td>\n",
       "      <td>Get here early enough to have dinner.</td>\n",
       "      <td>2012-07-15</td>\n",
       "      <td>{'BusinessAcceptsCreditCards': 'True', 'Restau...</td>\n",
       "      <td>Event Planning &amp; Services, Hotels &amp; Travel, Be...</td>\n",
       "      <td>Alburg</td>\n",
       "      <td>Ransom Bay Inn B &amp; B</td>\n",
       "      <td>5.0</td>\n",
       "      <td>5</td>\n",
       "    </tr>\n",
       "    <tr>\n",
       "      <th>1</th>\n",
       "      <td>2ThtBbeDqFkVi6LugUOcVA</td>\n",
       "      <td>Don't use them! Double charged my boyfriend an...</td>\n",
       "      <td>2012-11-25</td>\n",
       "      <td>None</td>\n",
       "      <td>Tours, Hotels &amp; Travel, Town Car Service, Tran...</td>\n",
       "      <td>Las Vegas</td>\n",
       "      <td>Empire Limousine</td>\n",
       "      <td>2.0</td>\n",
       "      <td>5</td>\n",
       "    </tr>\n",
       "    <tr>\n",
       "      <th>2</th>\n",
       "      <td>jH19V2I9fIslnNhDzPmdkA</td>\n",
       "      <td>Great breakfast large portions and friendly wa...</td>\n",
       "      <td>2015-08-12</td>\n",
       "      <td>{'Alcohol': 'none', 'Ambience': '{'romantic': ...</td>\n",
       "      <td>American (Traditional), Breakfast &amp; Brunch, Re...</td>\n",
       "      <td>Mooers</td>\n",
       "      <td>Sandi's Kountry Kitchen</td>\n",
       "      <td>5.0</td>\n",
       "      <td>7</td>\n",
       "    </tr>\n",
       "    <tr>\n",
       "      <th>3</th>\n",
       "      <td>dAa0hB2yrnHzVmsCkN4YvQ</td>\n",
       "      <td>Nice place. Great staff.  A fixture in the tow...</td>\n",
       "      <td>2014-06-20</td>\n",
       "      <td>{'Alcohol': 'full_bar', 'Ambience': '{'romanti...</td>\n",
       "      <td>American (Traditional), Venues &amp; Event Spaces,...</td>\n",
       "      <td>Elizabeth</td>\n",
       "      <td>Rock Run Inn</td>\n",
       "      <td>4.5</td>\n",
       "      <td>7</td>\n",
       "    </tr>\n",
       "    <tr>\n",
       "      <th>4</th>\n",
       "      <td>dAa0hB2yrnHzVmsCkN4YvQ</td>\n",
       "      <td>Happy hour 5-7 Monday - Friday</td>\n",
       "      <td>2016-10-12</td>\n",
       "      <td>{'Alcohol': 'full_bar', 'Ambience': '{'romanti...</td>\n",
       "      <td>American (Traditional), Venues &amp; Event Spaces,...</td>\n",
       "      <td>Elizabeth</td>\n",
       "      <td>Rock Run Inn</td>\n",
       "      <td>4.5</td>\n",
       "      <td>7</td>\n",
       "    </tr>\n",
       "  </tbody>\n",
       "</table>\n",
       "</div>"
      ],
      "text/plain": [
       "              business_id                                               text  \\\n",
       "0  tJRDll5yqpZwehenzE2cSg              Get here early enough to have dinner.   \n",
       "1  2ThtBbeDqFkVi6LugUOcVA  Don't use them! Double charged my boyfriend an...   \n",
       "2  jH19V2I9fIslnNhDzPmdkA  Great breakfast large portions and friendly wa...   \n",
       "3  dAa0hB2yrnHzVmsCkN4YvQ  Nice place. Great staff.  A fixture in the tow...   \n",
       "4  dAa0hB2yrnHzVmsCkN4YvQ                     Happy hour 5-7 Monday - Friday   \n",
       "\n",
       "        date                                         attributes  \\\n",
       "0 2012-07-15  {'BusinessAcceptsCreditCards': 'True', 'Restau...   \n",
       "1 2012-11-25                                               None   \n",
       "2 2015-08-12  {'Alcohol': 'none', 'Ambience': '{'romantic': ...   \n",
       "3 2014-06-20  {'Alcohol': 'full_bar', 'Ambience': '{'romanti...   \n",
       "4 2016-10-12  {'Alcohol': 'full_bar', 'Ambience': '{'romanti...   \n",
       "\n",
       "                                          categories       city  \\\n",
       "0  Event Planning & Services, Hotels & Travel, Be...     Alburg   \n",
       "1  Tours, Hotels & Travel, Town Car Service, Tran...  Las Vegas   \n",
       "2  American (Traditional), Breakfast & Brunch, Re...     Mooers   \n",
       "3  American (Traditional), Venues & Event Spaces,...  Elizabeth   \n",
       "4  American (Traditional), Venues & Event Spaces,...  Elizabeth   \n",
       "\n",
       "                      name  stars  review_count  \n",
       "0     Ransom Bay Inn B & B    5.0             5  \n",
       "1         Empire Limousine    2.0             5  \n",
       "2  Sandi's Kountry Kitchen    5.0             7  \n",
       "3             Rock Run Inn    4.5             7  \n",
       "4             Rock Run Inn    4.5             7  "
      ]
     },
     "execution_count": 18,
     "metadata": {},
     "output_type": "execute_result"
    }
   ],
   "source": [
    "merge_business_tips.head()"
   ]
  },
  {
   "cell_type": "markdown",
   "metadata": {},
   "source": [
    "We select business located in Las Vegas"
   ]
  },
  {
   "cell_type": "code",
   "execution_count": 19,
   "metadata": {},
   "outputs": [],
   "source": [
    "LasVegas_business_tips = merge_business_tips.loc[merge_business_tips['city'] == 'Las Vegas']"
   ]
  },
  {
   "cell_type": "code",
   "execution_count": 20,
   "metadata": {
    "scrolled": true
   },
   "outputs": [
    {
     "name": "stdout",
     "output_type": "stream",
     "text": [
      "<class 'pandas.core.frame.DataFrame'>\n",
      "Int64Index: 419023 entries, 1 to 1185330\n",
      "Data columns (total 9 columns):\n",
      "business_id     419023 non-null object\n",
      "text            419023 non-null object\n",
      "date            419023 non-null datetime64[ns]\n",
      "attributes      408812 non-null object\n",
      "categories      418922 non-null object\n",
      "city            419023 non-null object\n",
      "name            419023 non-null object\n",
      "stars           419023 non-null float64\n",
      "review_count    419023 non-null int64\n",
      "dtypes: datetime64[ns](1), float64(1), int64(1), object(6)\n",
      "memory usage: 32.0+ MB\n"
     ]
    }
   ],
   "source": [
    "LasVegas_business_tips.info()"
   ]
  },
  {
   "cell_type": "markdown",
   "metadata": {},
   "source": [
    "Reset the index of the DataFrame"
   ]
  },
  {
   "cell_type": "code",
   "execution_count": 21,
   "metadata": {},
   "outputs": [],
   "source": [
    "LasVegas_business_tips = LasVegas_business_tips.reset_index(drop=True);\n"
   ]
  },
  {
   "cell_type": "code",
   "execution_count": 22,
   "metadata": {
    "scrolled": true
   },
   "outputs": [
    {
     "data": {
      "text/html": [
       "<div>\n",
       "<style scoped>\n",
       "    .dataframe tbody tr th:only-of-type {\n",
       "        vertical-align: middle;\n",
       "    }\n",
       "\n",
       "    .dataframe tbody tr th {\n",
       "        vertical-align: top;\n",
       "    }\n",
       "\n",
       "    .dataframe thead th {\n",
       "        text-align: right;\n",
       "    }\n",
       "</style>\n",
       "<table border=\"1\" class=\"dataframe\">\n",
       "  <thead>\n",
       "    <tr style=\"text-align: right;\">\n",
       "      <th></th>\n",
       "      <th>business_id</th>\n",
       "      <th>text</th>\n",
       "      <th>date</th>\n",
       "      <th>attributes</th>\n",
       "      <th>categories</th>\n",
       "      <th>city</th>\n",
       "      <th>name</th>\n",
       "      <th>stars</th>\n",
       "      <th>review_count</th>\n",
       "    </tr>\n",
       "  </thead>\n",
       "  <tbody>\n",
       "    <tr>\n",
       "      <th>0</th>\n",
       "      <td>2ThtBbeDqFkVi6LugUOcVA</td>\n",
       "      <td>Don't use them! Double charged my boyfriend an...</td>\n",
       "      <td>2012-11-25</td>\n",
       "      <td>None</td>\n",
       "      <td>Tours, Hotels &amp; Travel, Town Car Service, Tran...</td>\n",
       "      <td>Las Vegas</td>\n",
       "      <td>Empire Limousine</td>\n",
       "      <td>2.0</td>\n",
       "      <td>5</td>\n",
       "    </tr>\n",
       "    <tr>\n",
       "      <th>1</th>\n",
       "      <td>KPgyqG3MyFUDK7GRbUg51A</td>\n",
       "      <td>Valley of Fire Tour.  Very nice!</td>\n",
       "      <td>2016-04-11</td>\n",
       "      <td>None</td>\n",
       "      <td>Landmarks &amp; Historical Buildings, Travel Servi...</td>\n",
       "      <td>Las Vegas</td>\n",
       "      <td>Pink Jeep Tours</td>\n",
       "      <td>4.5</td>\n",
       "      <td>136</td>\n",
       "    </tr>\n",
       "    <tr>\n",
       "      <th>2</th>\n",
       "      <td>KPgyqG3MyFUDK7GRbUg51A</td>\n",
       "      <td>Hoover Dam Upgrade tour with Kegan was excelle...</td>\n",
       "      <td>2015-03-23</td>\n",
       "      <td>None</td>\n",
       "      <td>Landmarks &amp; Historical Buildings, Travel Servi...</td>\n",
       "      <td>Las Vegas</td>\n",
       "      <td>Pink Jeep Tours</td>\n",
       "      <td>4.5</td>\n",
       "      <td>136</td>\n",
       "    </tr>\n",
       "    <tr>\n",
       "      <th>3</th>\n",
       "      <td>KPgyqG3MyFUDK7GRbUg51A</td>\n",
       "      <td>The pink bus is in the house.</td>\n",
       "      <td>2010-08-20</td>\n",
       "      <td>None</td>\n",
       "      <td>Landmarks &amp; Historical Buildings, Travel Servi...</td>\n",
       "      <td>Las Vegas</td>\n",
       "      <td>Pink Jeep Tours</td>\n",
       "      <td>4.5</td>\n",
       "      <td>136</td>\n",
       "    </tr>\n",
       "    <tr>\n",
       "      <th>4</th>\n",
       "      <td>KPgyqG3MyFUDK7GRbUg51A</td>\n",
       "      <td>The truck seating is two on the driver side an...</td>\n",
       "      <td>2015-05-12</td>\n",
       "      <td>None</td>\n",
       "      <td>Landmarks &amp; Historical Buildings, Travel Servi...</td>\n",
       "      <td>Las Vegas</td>\n",
       "      <td>Pink Jeep Tours</td>\n",
       "      <td>4.5</td>\n",
       "      <td>136</td>\n",
       "    </tr>\n",
       "  </tbody>\n",
       "</table>\n",
       "</div>"
      ],
      "text/plain": [
       "              business_id                                               text  \\\n",
       "0  2ThtBbeDqFkVi6LugUOcVA  Don't use them! Double charged my boyfriend an...   \n",
       "1  KPgyqG3MyFUDK7GRbUg51A                   Valley of Fire Tour.  Very nice!   \n",
       "2  KPgyqG3MyFUDK7GRbUg51A  Hoover Dam Upgrade tour with Kegan was excelle...   \n",
       "3  KPgyqG3MyFUDK7GRbUg51A                      The pink bus is in the house.   \n",
       "4  KPgyqG3MyFUDK7GRbUg51A  The truck seating is two on the driver side an...   \n",
       "\n",
       "        date attributes                                         categories  \\\n",
       "0 2012-11-25       None  Tours, Hotels & Travel, Town Car Service, Tran...   \n",
       "1 2016-04-11       None  Landmarks & Historical Buildings, Travel Servi...   \n",
       "2 2015-03-23       None  Landmarks & Historical Buildings, Travel Servi...   \n",
       "3 2010-08-20       None  Landmarks & Historical Buildings, Travel Servi...   \n",
       "4 2015-05-12       None  Landmarks & Historical Buildings, Travel Servi...   \n",
       "\n",
       "        city              name  stars  review_count  \n",
       "0  Las Vegas  Empire Limousine    2.0             5  \n",
       "1  Las Vegas   Pink Jeep Tours    4.5           136  \n",
       "2  Las Vegas   Pink Jeep Tours    4.5           136  \n",
       "3  Las Vegas   Pink Jeep Tours    4.5           136  \n",
       "4  Las Vegas   Pink Jeep Tours    4.5           136  "
      ]
     },
     "execution_count": 22,
     "metadata": {},
     "output_type": "execute_result"
    }
   ],
   "source": [
    "LasVegas_business_tips.head()"
   ]
  },
  {
   "cell_type": "code",
   "execution_count": 23,
   "metadata": {},
   "outputs": [
    {
     "data": {
      "text/plain": [
       "business_id             object\n",
       "text                    object\n",
       "date            datetime64[ns]\n",
       "attributes              object\n",
       "categories              object\n",
       "city                    object\n",
       "name                    object\n",
       "stars                  float64\n",
       "review_count             int64\n",
       "dtype: object"
      ]
     },
     "execution_count": 23,
     "metadata": {},
     "output_type": "execute_result"
    }
   ],
   "source": [
    "LasVegas_business_tips.dtypes"
   ]
  },
  {
   "cell_type": "code",
   "execution_count": 24,
   "metadata": {},
   "outputs": [],
   "source": [
    "business_names = set()\n"
   ]
  },
  {
   "cell_type": "markdown",
   "metadata": {},
   "source": [
    "Select name and review_counts to form a new dataframe (for making a plot)"
   ]
  },
  {
   "cell_type": "code",
   "execution_count": 25,
   "metadata": {},
   "outputs": [],
   "source": [
    "name_review_counts = LasVegas_business_tips[['name','review_count']].drop_duplicates()"
   ]
  },
  {
   "cell_type": "code",
   "execution_count": 26,
   "metadata": {},
   "outputs": [
    {
     "name": "stdout",
     "output_type": "stream",
     "text": [
      "<class 'pandas.core.frame.DataFrame'>\n",
      "Int64Index: 20470 entries, 0 to 419020\n",
      "Data columns (total 2 columns):\n",
      "name            20470 non-null object\n",
      "review_count    20470 non-null int64\n",
      "dtypes: int64(1), object(1)\n",
      "memory usage: 479.8+ KB\n"
     ]
    }
   ],
   "source": [
    "name_review_counts.info()"
   ]
  },
  {
   "cell_type": "markdown",
   "metadata": {},
   "source": [
    "We only consider short reviews posted after 2017-1-1. There are 65280 of them."
   ]
  },
  {
   "cell_type": "code",
   "execution_count": 27,
   "metadata": {},
   "outputs": [],
   "source": [
    "LasVegas_business_tips_after2017 = LasVegas_business_tips.loc[LasVegas_business_tips['date']>='2017-1-1']"
   ]
  },
  {
   "cell_type": "code",
   "execution_count": 28,
   "metadata": {},
   "outputs": [
    {
     "name": "stdout",
     "output_type": "stream",
     "text": [
      "<class 'pandas.core.frame.DataFrame'>\n",
      "Int64Index: 65280 entries, 8 to 419022\n",
      "Data columns (total 9 columns):\n",
      "business_id     65280 non-null object\n",
      "text            65280 non-null object\n",
      "date            65280 non-null datetime64[ns]\n",
      "attributes      63612 non-null object\n",
      "categories      65257 non-null object\n",
      "city            65280 non-null object\n",
      "name            65280 non-null object\n",
      "stars           65280 non-null float64\n",
      "review_count    65280 non-null int64\n",
      "dtypes: datetime64[ns](1), float64(1), int64(1), object(6)\n",
      "memory usage: 5.0+ MB\n"
     ]
    }
   ],
   "source": [
    "LasVegas_business_tips_after2017.info()"
   ]
  },
  {
   "cell_type": "code",
   "execution_count": 29,
   "metadata": {},
   "outputs": [],
   "source": [
    "import matplotlib.pyplot as plt\n",
    "\n",
    "% matplotlib inline"
   ]
  },
  {
   "cell_type": "code",
   "execution_count": 30,
   "metadata": {},
   "outputs": [
    {
     "data": {
      "text/plain": [
       "<matplotlib.axes._subplots.AxesSubplot at 0x11b1ca908>"
      ]
     },
     "execution_count": 30,
     "metadata": {},
     "output_type": "execute_result"
    },
    {
     "data": {
      "image/png": "[encoded data removed]",
      "text/plain": [
       "<Figure size 432x288 with 1 Axes>"
      ]
     },
     "metadata": {},
     "output_type": "display_data"
    }
   ],
   "source": [
    "name_review_counts.plot(kind='bar',x='name',y='review_count')"
   ]
  },
  {
   "cell_type": "code",
   "execution_count": 31,
   "metadata": {},
   "outputs": [
    {
     "data": {
      "text/plain": [
       "<Figure size 432x288 with 0 Axes>"
      ]
     },
     "metadata": {},
     "output_type": "display_data"
    }
   ],
   "source": [
    "plt.savefig('name_review_counts.png')"
   ]
  },
  {
   "cell_type": "code",
   "execution_count": null,
   "metadata": {},
   "outputs": [],
   "source": []
  },
  {
   "cell_type": "code",
   "execution_count": null,
   "metadata": {},
   "outputs": [],
   "source": []
  },
  {
   "cell_type": "code",
   "execution_count": 56,
   "metadata": {},
   "outputs": [],
   "source": [
    "export_to_csv = LasVegas_business_tips_after2017.to_csv(r'LasVegas_tips_after2017.csv')"
   ]
  },
  {
   "cell_type": "code",
   "execution_count": null,
   "metadata": {},
   "outputs": [],
   "source": []
  },
  {
   "cell_type": "code",
   "execution_count": 32,
   "metadata": {},
   "outputs": [],
   "source": [
    "LasVegas_business_tips_after2016 = LasVegas_business_tips.loc[LasVegas_business_tips['date']>='2016-1-1']"
   ]
  },
  {
   "cell_type": "code",
   "execution_count": 33,
   "metadata": {},
   "outputs": [
    {
     "name": "stdout",
     "output_type": "stream",
     "text": [
      "<class 'pandas.core.frame.DataFrame'>\n",
      "Int64Index: 111831 entries, 1 to 419022\n",
      "Data columns (total 9 columns):\n",
      "business_id     111831 non-null object\n",
      "text            111831 non-null object\n",
      "date            111831 non-null datetime64[ns]\n",
      "attributes      109022 non-null object\n",
      "categories      111800 non-null object\n",
      "city            111831 non-null object\n",
      "name            111831 non-null object\n",
      "stars           111831 non-null float64\n",
      "review_count    111831 non-null int64\n",
      "dtypes: datetime64[ns](1), float64(1), int64(1), object(6)\n",
      "memory usage: 8.5+ MB\n"
     ]
    }
   ],
   "source": [
    "LasVegas_business_tips_after2016.info()"
   ]
  },
  {
   "cell_type": "code",
   "execution_count": 34,
   "metadata": {},
   "outputs": [],
   "source": [
    "LasVegas_business_tips_after2017.to_csv(r'LasVegas_tips_after2016.csv')"
   ]
  },
  {
   "cell_type": "code",
   "execution_count": null,
   "metadata": {},
   "outputs": [],
   "source": []
  },
  {
   "cell_type": "code",
   "execution_count": null,
   "metadata": {},
   "outputs": [],
   "source": []
  },
  {
   "cell_type": "code",
   "execution_count": null,
   "metadata": {},
   "outputs": [],
   "source": []
  },
  {
   "cell_type": "code",
   "execution_count": null,
   "metadata": {},
   "outputs": [],
   "source": []
  },
  {
   "cell_type": "code",
   "execution_count": null,
   "metadata": {},
   "outputs": [],
   "source": []
  },
  {
   "cell_type": "code",
   "execution_count": null,
   "metadata": {},
   "outputs": [],
   "source": []
  },
  {
   "cell_type": "code",
   "execution_count": null,
   "metadata": {},
   "outputs": [],
   "source": []
  },
  {
   "cell_type": "code",
   "execution_count": null,
   "metadata": {},
   "outputs": [],
   "source": []
  },
  {
   "cell_type": "code",
   "execution_count": null,
   "metadata": {},
   "outputs": [],
   "source": []
  },
  {
   "cell_type": "code",
   "execution_count": null,
   "metadata": {},
   "outputs": [],
   "source": []
  },
  {
   "cell_type": "code",
   "execution_count": null,
   "metadata": {},
   "outputs": [],
   "source": []
  },
  {
   "cell_type": "code",
   "execution_count": null,
   "metadata": {},
   "outputs": [],
   "source": []
  },
  {
   "cell_type": "code",
   "execution_count": null,
   "metadata": {},
   "outputs": [],
   "source": []
  }
 ],
 "metadata": {
  "kernelspec": {
   "display_name": "Python 3",
   "language": "python",
   "name": "python3"
  },
  "language_info": {
   "codemirror_mode": {
    "name": "ipython",
    "version": 3
   },
   "file_extension": ".py",
   "mimetype": "text/x-python",
   "name": "python",
   "nbconvert_exporter": "python",
   "pygments_lexer": "ipython3",
   "version": "3.6.5"
  }
 },
 "nbformat": 4,
 "nbformat_minor": 2
}
