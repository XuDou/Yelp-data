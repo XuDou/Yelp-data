{
 "cells": [
  {
   "cell_type": "code",
   "execution_count": 1,
   "metadata": {},
   "outputs": [],
   "source": [
    "import pandas as pd\n",
    "import ijson\n",
    "import numpy as np\n",
    "import json\n",
    "import io\n",
    "import os"
   ]
  },
  {
   "cell_type": "code",
   "execution_count": 20,
   "metadata": {},
   "outputs": [],
   "source": [
    "data = pd.read_csv('LasVegas_tips_after2017.csv')"
   ]
  },
  {
   "cell_type": "code",
   "execution_count": 178,
   "metadata": {},
   "outputs": [
    {
     "data": {
      "text/html": [
       "<div>\n",
       "<style scoped>\n",
       "    .dataframe tbody tr th:only-of-type {\n",
       "        vertical-align: middle;\n",
       "    }\n",
       "\n",
       "    .dataframe tbody tr th {\n",
       "        vertical-align: top;\n",
       "    }\n",
       "\n",
       "    .dataframe thead th {\n",
       "        text-align: right;\n",
       "    }\n",
       "</style>\n",
       "<table border=\"1\" class=\"dataframe\">\n",
       "  <thead>\n",
       "    <tr style=\"text-align: right;\">\n",
       "      <th></th>\n",
       "      <th>Unnamed: 0</th>\n",
       "      <th>business_id</th>\n",
       "      <th>text</th>\n",
       "      <th>date</th>\n",
       "      <th>attributes</th>\n",
       "      <th>categories</th>\n",
       "      <th>city</th>\n",
       "      <th>name</th>\n",
       "      <th>stars</th>\n",
       "      <th>review_count</th>\n",
       "      <th>class</th>\n",
       "      <th>tips_stars</th>\n",
       "    </tr>\n",
       "  </thead>\n",
       "  <tbody>\n",
       "    <tr>\n",
       "      <th>0</th>\n",
       "      <td>8</td>\n",
       "      <td>KPgyqG3MyFUDK7GRbUg51A</td>\n",
       "      <td>Kelly Paun was so full of knowledge and was so...</td>\n",
       "      <td>2017-03-23</td>\n",
       "      <td>NaN</td>\n",
       "      <td>Landmarks &amp; Historical Buildings, Travel Servi...</td>\n",
       "      <td>Las Vegas</td>\n",
       "      <td>Pink Jeep Tours</td>\n",
       "      <td>4.5</td>\n",
       "      <td>136</td>\n",
       "      <td>1.0</td>\n",
       "      <td>Kelly Paun was so full of knowledge and was so...</td>\n",
       "    </tr>\n",
       "    <tr>\n",
       "      <th>1</th>\n",
       "      <td>20</td>\n",
       "      <td>JtNVcqioJhS8GZ-If30oHg</td>\n",
       "      <td>Make sure you sign up for Emerald club before ...</td>\n",
       "      <td>2018-03-29</td>\n",
       "      <td>NaN</td>\n",
       "      <td>Automotive, Hotels &amp; Travel, Car Rental</td>\n",
       "      <td>Las Vegas</td>\n",
       "      <td>National Car Rental</td>\n",
       "      <td>4.0</td>\n",
       "      <td>224</td>\n",
       "      <td>1.0</td>\n",
       "      <td>Make sure you sign up for Emerald club before ...</td>\n",
       "    </tr>\n",
       "    <tr>\n",
       "      <th>2</th>\n",
       "      <td>34</td>\n",
       "      <td>gh6__q2WXFuyN8gt6VAnWw</td>\n",
       "      <td>Very delicious food with very fast delivery!</td>\n",
       "      <td>2017-09-24</td>\n",
       "      <td>{'Alcohol': 'full_bar', 'Ambience': \"{'romanti...</td>\n",
       "      <td>Seafood, Restaurants, Steakhouses, Greek, Fren...</td>\n",
       "      <td>Las Vegas</td>\n",
       "      <td>Vila Algarve</td>\n",
       "      <td>4.5</td>\n",
       "      <td>189</td>\n",
       "      <td>1.0</td>\n",
       "      <td>Very delicious food with very fast delivery!  4.5</td>\n",
       "    </tr>\n",
       "    <tr>\n",
       "      <th>3</th>\n",
       "      <td>55</td>\n",
       "      <td>gh6__q2WXFuyN8gt6VAnWw</td>\n",
       "      <td>Amazing Portuguese food! Linguica (chirizo) is...</td>\n",
       "      <td>2017-12-11</td>\n",
       "      <td>{'Alcohol': 'full_bar', 'Ambience': \"{'romanti...</td>\n",
       "      <td>Seafood, Restaurants, Steakhouses, Greek, Fren...</td>\n",
       "      <td>Las Vegas</td>\n",
       "      <td>Vila Algarve</td>\n",
       "      <td>4.5</td>\n",
       "      <td>189</td>\n",
       "      <td>1.0</td>\n",
       "      <td>Amazing Portuguese food! Linguica (chirizo) is...</td>\n",
       "    </tr>\n",
       "    <tr>\n",
       "      <th>4</th>\n",
       "      <td>56</td>\n",
       "      <td>gh6__q2WXFuyN8gt6VAnWw</td>\n",
       "      <td>All the way from Porto portugal lost off love!...</td>\n",
       "      <td>2018-04-10</td>\n",
       "      <td>{'Alcohol': 'full_bar', 'Ambience': \"{'romanti...</td>\n",
       "      <td>Seafood, Restaurants, Steakhouses, Greek, Fren...</td>\n",
       "      <td>Las Vegas</td>\n",
       "      <td>Vila Algarve</td>\n",
       "      <td>4.5</td>\n",
       "      <td>189</td>\n",
       "      <td>1.0</td>\n",
       "      <td>All the way from Porto portugal lost off love!...</td>\n",
       "    </tr>\n",
       "  </tbody>\n",
       "</table>\n",
       "</div>"
      ],
      "text/plain": [
       "   Unnamed: 0             business_id  \\\n",
       "0           8  KPgyqG3MyFUDK7GRbUg51A   \n",
       "1          20  JtNVcqioJhS8GZ-If30oHg   \n",
       "2          34  gh6__q2WXFuyN8gt6VAnWw   \n",
       "3          55  gh6__q2WXFuyN8gt6VAnWw   \n",
       "4          56  gh6__q2WXFuyN8gt6VAnWw   \n",
       "\n",
       "                                                text        date  \\\n",
       "0  Kelly Paun was so full of knowledge and was so...  2017-03-23   \n",
       "1  Make sure you sign up for Emerald club before ...  2018-03-29   \n",
       "2       Very delicious food with very fast delivery!  2017-09-24   \n",
       "3  Amazing Portuguese food! Linguica (chirizo) is...  2017-12-11   \n",
       "4  All the way from Porto portugal lost off love!...  2018-04-10   \n",
       "\n",
       "                                          attributes  \\\n",
       "0                                                NaN   \n",
       "1                                                NaN   \n",
       "2  {'Alcohol': 'full_bar', 'Ambience': \"{'romanti...   \n",
       "3  {'Alcohol': 'full_bar', 'Ambience': \"{'romanti...   \n",
       "4  {'Alcohol': 'full_bar', 'Ambience': \"{'romanti...   \n",
       "\n",
       "                                          categories       city  \\\n",
       "0  Landmarks & Historical Buildings, Travel Servi...  Las Vegas   \n",
       "1            Automotive, Hotels & Travel, Car Rental  Las Vegas   \n",
       "2  Seafood, Restaurants, Steakhouses, Greek, Fren...  Las Vegas   \n",
       "3  Seafood, Restaurants, Steakhouses, Greek, Fren...  Las Vegas   \n",
       "4  Seafood, Restaurants, Steakhouses, Greek, Fren...  Las Vegas   \n",
       "\n",
       "                  name  stars  review_count  class  \\\n",
       "0      Pink Jeep Tours    4.5           136    1.0   \n",
       "1  National Car Rental    4.0           224    1.0   \n",
       "2         Vila Algarve    4.5           189    1.0   \n",
       "3         Vila Algarve    4.5           189    1.0   \n",
       "4         Vila Algarve    4.5           189    1.0   \n",
       "\n",
       "                                          tips_stars  \n",
       "0  Kelly Paun was so full of knowledge and was so...  \n",
       "1  Make sure you sign up for Emerald club before ...  \n",
       "2  Very delicious food with very fast delivery!  4.5  \n",
       "3  Amazing Portuguese food! Linguica (chirizo) is...  \n",
       "4  All the way from Porto portugal lost off love!...  "
      ]
     },
     "execution_count": 178,
     "metadata": {},
     "output_type": "execute_result"
    }
   ],
   "source": [
    "data.head(5)"
   ]
  },
  {
   "cell_type": "code",
   "execution_count": 11,
   "metadata": {},
   "outputs": [
    {
     "data": {
      "text/plain": [
       "Unnamed: 0        int64\n",
       "business_id      object\n",
       "text             object\n",
       "date             object\n",
       "attributes       object\n",
       "categories       object\n",
       "city             object\n",
       "name             object\n",
       "stars           float64\n",
       "review_count      int64\n",
       "dtype: object"
      ]
     },
     "execution_count": 11,
     "metadata": {},
     "output_type": "execute_result"
    }
   ],
   "source": [
    "data.dtypes"
   ]
  },
  {
   "cell_type": "markdown",
   "metadata": {},
   "source": [
    "## Define a categorical variable"
   ]
  },
  {
   "cell_type": "code",
   "execution_count": 12,
   "metadata": {},
   "outputs": [
    {
     "data": {
      "text/plain": [
       "RangeIndex(start=0, stop=65280, step=1)"
      ]
     },
     "execution_count": 12,
     "metadata": {},
     "output_type": "execute_result"
    }
   ],
   "source": [
    "data.index"
   ]
  },
  {
   "cell_type": "code",
   "execution_count": 22,
   "metadata": {},
   "outputs": [],
   "source": [
    "stars = np.array(data['stars'])"
   ]
  },
  {
   "cell_type": "code",
   "execution_count": 23,
   "metadata": {},
   "outputs": [],
   "source": [
    "##1.0 means good; 0.0 means not good, bad ...\n",
    "stars[stars<4.0] = 0.0\n",
    "stars[stars>=4.0] = 1.0\n",
    "data['class'] = stars"
   ]
  },
  {
   "cell_type": "code",
   "execution_count": 177,
   "metadata": {
    "scrolled": true
   },
   "outputs": [],
   "source": [
    "data.head(15);"
   ]
  },
  {
   "cell_type": "markdown",
   "metadata": {},
   "source": [
    "### A glimpse onto the statistics of the class variable"
   ]
  },
  {
   "cell_type": "code",
   "execution_count": 29,
   "metadata": {},
   "outputs": [
    {
     "data": {
      "text/plain": [
       "count    65280.000000\n",
       "mean         3.908058\n",
       "std          0.703868\n",
       "min          1.000000\n",
       "25%          3.500000\n",
       "50%          4.000000\n",
       "75%          4.500000\n",
       "max          5.000000\n",
       "Name: stars, dtype: float64"
      ]
     },
     "execution_count": 29,
     "metadata": {},
     "output_type": "execute_result"
    }
   ],
   "source": [
    "data['stars'].describe()"
   ]
  },
  {
   "cell_type": "code",
   "execution_count": 26,
   "metadata": {},
   "outputs": [
    {
     "data": {
      "text/plain": [
       "count    65280.000000\n",
       "mean         0.672733\n",
       "std          0.469219\n",
       "min          0.000000\n",
       "25%          0.000000\n",
       "50%          1.000000\n",
       "75%          1.000000\n",
       "max          1.000000\n",
       "Name: class, dtype: float64"
      ]
     },
     "execution_count": 26,
     "metadata": {},
     "output_type": "execute_result"
    }
   ],
   "source": [
    "data['class'].describe()"
   ]
  },
  {
   "cell_type": "markdown",
   "metadata": {},
   "source": [
    "#### Combine the tips column with the stars column"
   ]
  },
  {
   "cell_type": "code",
   "execution_count": 153,
   "metadata": {},
   "outputs": [],
   "source": [
    "# Create a new column which combiens \"text\" and \"stars\"\n",
    "\n",
    "# Turn stars into strings, add a space in front of each item\n",
    "\n",
    "data['stars'] = data['stars'].map(str).apply(lambda x: ' ' + x);\n",
    "\n",
    "data['tips_stars'] = data[\"text\"] + data['stars']"
   ]
  },
  {
   "cell_type": "code",
   "execution_count": 156,
   "metadata": {},
   "outputs": [
    {
     "data": {
      "text/plain": [
       "\"Park valet. It'll be the best $20 you spend because it gives you free valet parking nearly everywhere else (like Bellagio). Any MGM resort on the Strip is included, and there's many.  3.0\""
      ]
     },
     "execution_count": 156,
     "metadata": {},
     "output_type": "execute_result"
    }
   ],
   "source": [
    "data.iloc[98]['tips_stars']"
   ]
  },
  {
   "cell_type": "markdown",
   "metadata": {},
   "source": [
    "#### Split the dataset into training set and test set "
   ]
  },
  {
   "cell_type": "code",
   "execution_count": 32,
   "metadata": {},
   "outputs": [],
   "source": [
    "from sklearn.model_selection import train_test_split"
   ]
  },
  {
   "cell_type": "code",
   "execution_count": 157,
   "metadata": {},
   "outputs": [],
   "source": [
    "train_set, test_set = train_test_split(\n",
    "...     data, test_size=0.33, random_state=42)"
   ]
  },
  {
   "cell_type": "markdown",
   "metadata": {},
   "source": [
    "#### tf-idf"
   ]
  },
  {
   "cell_type": "code",
   "execution_count": 158,
   "metadata": {},
   "outputs": [],
   "source": [
    "from sklearn.feature_extraction.text import TfidfVectorizer\n",
    "vectorizer =  TfidfVectorizer(max_features=1200,stop_words='english',ngram_range=(1,3))"
   ]
  },
  {
   "cell_type": "code",
   "execution_count": 166,
   "metadata": {},
   "outputs": [
    {
     "data": {
      "text/plain": [
       "TfidfVectorizer(analyzer='word', binary=False, decode_error='strict',\n",
       "        dtype=<class 'numpy.int64'>, encoding='utf-8', input='content',\n",
       "        lowercase=True, max_df=1.0, max_features=1200, min_df=1,\n",
       "        ngram_range=(1, 3), norm='l2', preprocessor=None, smooth_idf=True,\n",
       "        stop_words='english', strip_accents=None, sublinear_tf=False,\n",
       "        token_pattern='(?u)\\\\b\\\\w\\\\w+\\\\b', tokenizer=None, use_idf=True,\n",
       "        vocabulary=None)"
      ]
     },
     "execution_count": 166,
     "metadata": {},
     "output_type": "execute_result"
    }
   ],
   "source": [
    "vectorizer.fit(data['tips_stars'].values.astype('U'))"
   ]
  },
  {
   "cell_type": "code",
   "execution_count": 167,
   "metadata": {},
   "outputs": [],
   "source": [
    "train_tfidf = vectorizer.transform(train_set['tips_stars'].values.astype('U'))"
   ]
  },
  {
   "cell_type": "code",
   "execution_count": 168,
   "metadata": {},
   "outputs": [],
   "source": [
    "test_tfidf = vectorizer.transform(test_set['tips_stars'].values.astype('U'))"
   ]
  },
  {
   "cell_type": "code",
   "execution_count": 169,
   "metadata": {},
   "outputs": [
    {
     "data": {
      "text/plain": [
       "(43737, 1200)"
      ]
     },
     "execution_count": 169,
     "metadata": {},
     "output_type": "execute_result"
    }
   ],
   "source": [
    "train_tfidf.shape"
   ]
  },
  {
   "cell_type": "code",
   "execution_count": 170,
   "metadata": {},
   "outputs": [
    {
     "data": {
      "text/plain": [
       "(21543, 1200)"
      ]
     },
     "execution_count": 170,
     "metadata": {},
     "output_type": "execute_result"
    }
   ],
   "source": [
    "test_tfidf.shape"
   ]
  },
  {
   "cell_type": "code",
   "execution_count": 176,
   "metadata": {},
   "outputs": [],
   "source": [
    "#print(vectorizer.get_feature_names())"
   ]
  },
  {
   "cell_type": "code",
   "execution_count": 130,
   "metadata": {},
   "outputs": [],
   "source": [
    "#print(test_tfidf)"
   ]
  },
  {
   "cell_type": "code",
   "execution_count": null,
   "metadata": {},
   "outputs": [],
   "source": []
  },
  {
   "cell_type": "markdown",
   "metadata": {},
   "source": [
    "### K Means"
   ]
  },
  {
   "cell_type": "code",
   "execution_count": 110,
   "metadata": {},
   "outputs": [],
   "source": [
    "from sklearn.cluster import KMeans\n",
    "from sklearn.metrics import adjusted_rand_score\n",
    "\n",
    "from sklearn_pandas import DataFrameMapper\n",
    "\n",
    "## The output of K_Means is an array of labels. "
   ]
  },
  {
   "cell_type": "code",
   "execution_count": 174,
   "metadata": {
    "scrolled": true
   },
   "outputs": [
    {
     "data": {
      "text/plain": [
       "KMeans(algorithm='auto', copy_x=True, init='k-means++', max_iter=100,\n",
       "    n_clusters=16, n_init=1, n_jobs=1, precompute_distances='auto',\n",
       "    random_state=None, tol=0.0001, verbose=0)"
      ]
     },
     "execution_count": 174,
     "metadata": {},
     "output_type": "execute_result"
    }
   ],
   "source": [
    "K = 16\n",
    "KMeans_model = KMeans(n_clusters=K, init='k-means++', max_iter=100, n_init=1)\n",
    "KMeans_model.fit(train_tfidf)"
   ]
  },
  {
   "cell_type": "code",
   "execution_count": 191,
   "metadata": {},
   "outputs": [
    {
     "data": {
      "text/plain": [
       "array([ 3,  2,  2, ...,  2, 12, 13], dtype=int32)"
      ]
     },
     "execution_count": 191,
     "metadata": {},
     "output_type": "execute_result"
    }
   ],
   "source": [
    "KMeans_model.predict(train_tfidf)"
   ]
  },
  {
   "cell_type": "code",
   "execution_count": 175,
   "metadata": {},
   "outputs": [
    {
     "name": "stdout",
     "output_type": "stream",
     "text": [
      "Cluster 0:\n",
      " don\n",
      " time\n",
      " come\n",
      " waste\n",
      " like\n",
      " just\n",
      " don forget\n",
      " order\n",
      " wait\n",
      " forget\n",
      "Cluster 1:\n",
      " place\n",
      " great place\n",
      " great\n",
      " awesome\n",
      " nice\n",
      " good\n",
      " favorite\n",
      " place great\n",
      " nice place\n",
      " awesome place\n",
      "Cluster 2:\n",
      " service\n",
      " delicious\n",
      " awesome\n",
      " food\n",
      " great\n",
      " free\n",
      " excellent\n",
      " just\n",
      " nice\n",
      " closed\n",
      "Cluster 3:\n",
      " good\n",
      " food\n",
      " good food\n",
      " service\n",
      " food good\n",
      " good service\n",
      " really good\n",
      " really\n",
      " service good\n",
      " great\n",
      "Cluster 4:\n",
      " love\n",
      " love love\n",
      " love food\n",
      " food\n",
      " great\n",
      " love love love\n",
      " good\n",
      " time\n",
      " coming\n",
      " service\n",
      "Cluster 5:\n",
      " best\n",
      " town\n",
      " ve\n",
      " place\n",
      " best place\n",
      " food\n",
      " hands\n",
      " service\n",
      " pizza\n",
      " sushi\n",
      "Cluster 6:\n",
      " amazing\n",
      " food\n",
      " amazing food\n",
      " service\n",
      " food amazing\n",
      " amazing service\n",
      " great\n",
      " place amazing\n",
      " place\n",
      " service amazing\n",
      "Cluster 7:\n",
      " happy\n",
      " happy hour\n",
      " hour\n",
      " great\n",
      " 6pm\n",
      " menu\n",
      " 7pm\n",
      " drinks\n",
      " pm\n",
      " daily\n",
      "Cluster 8:\n",
      " people\n",
      " nice\n",
      " nice people\n",
      " great\n",
      " great people\n",
      " place\n",
      " food\n",
      " good\n",
      " friendly\n",
      " service\n",
      "Cluster 9:\n",
      " vegas\n",
      " las\n",
      " las vegas\n",
      " best\n",
      " favorite\n",
      " place\n",
      " place vegas\n",
      " food\n",
      " restaurant\n",
      " pizza\n",
      "Cluster 10:\n",
      " love place\n",
      " love\n",
      " place\n",
      " food\n",
      " great\n",
      " love place great\n",
      " place food\n",
      " place great\n",
      " amazing\n",
      " service\n",
      "Cluster 11:\n",
      " open\n",
      " open 24\n",
      " 24\n",
      " hours\n",
      " open late\n",
      " 24 hours\n",
      " late\n",
      " closed\n",
      " bar\n",
      " free\n",
      "Cluster 12:\n",
      " bomb\n",
      " com\n",
      " food\n",
      " place\n",
      " try\n",
      " fries\n",
      " tacos\n",
      " great\n",
      " service\n",
      " good\n",
      "Cluster 13:\n",
      " friendly\n",
      " staff\n",
      " friendly staff\n",
      " great\n",
      " service\n",
      " friendly service\n",
      " super\n",
      " helpful\n",
      " fast\n",
      " staff friendly\n",
      "Cluster 14:\n",
      " great\n",
      " service\n",
      " food\n",
      " great service\n",
      " great food\n",
      " food great\n",
      " service great\n",
      " customer\n",
      " customer service\n",
      " food great service\n",
      "Cluster 15:\n",
      " try\n",
      " good\n",
      " food\n",
      " great\n",
      " place\n",
      " amazing\n",
      " delicious\n",
      " chicken\n",
      " best\n",
      " definitely\n"
     ]
    }
   ],
   "source": [
    "order_centroids = KMeans_model.cluster_centers_.argsort()[:, ::-1]\n",
    "terms = vectorizer.get_feature_names()\n",
    "for i in range(K):\n",
    "    print(\"Cluster %d:\" % i),\n",
    "    for ind in order_centroids[i, :10]:\n",
    "        print(' %s' % terms[ind]),\n",
    "    print"
   ]
  },
  {
   "cell_type": "markdown",
   "metadata": {},
   "source": [
    "## Dimension Reducing: PCA"
   ]
  },
  {
   "cell_type": "code",
   "execution_count": 185,
   "metadata": {},
   "outputs": [],
   "source": [
    "from sklearn.decomposition import PCA\n",
    "from sklearn.decomposition import TruncatedSVD\n",
    "\n",
    "n_components = 50\n",
    "\n",
    "#truncatedSVD "
   ]
  },
  {
   "cell_type": "code",
   "execution_count": 186,
   "metadata": {},
   "outputs": [],
   "source": [
    "svd = TruncatedSVD(n_components)"
   ]
  },
  {
   "cell_type": "code",
   "execution_count": 188,
   "metadata": {},
   "outputs": [
    {
     "data": {
      "text/plain": [
       "array([[ 1.54680094e-01,  2.21561836e-01,  3.84991117e-01, ...,\n",
       "        -1.52790677e-01, -1.10233875e-01,  7.27960195e-02],\n",
       "       [ 3.89009403e-02,  2.52421114e-02,  5.06642381e-03, ...,\n",
       "        -1.59692171e-02,  4.82814553e-02, -2.33014656e-02],\n",
       "       [ 9.43317201e-03,  4.42481893e-03,  3.25021368e-04, ...,\n",
       "         1.82142256e-03, -5.19702368e-03, -1.00569419e-02],\n",
       "       ...,\n",
       "       [ 4.55154522e-02,  9.14376852e-03, -5.32312840e-03, ...,\n",
       "         7.64438501e-02,  2.71775208e-02,  3.22214719e-02],\n",
       "       [ 1.22982433e-01,  1.73232219e-01, -7.08030983e-02, ...,\n",
       "         6.34858218e-02,  8.44965219e-02, -3.91187608e-02],\n",
       "       [ 5.13253029e-02,  2.03455494e-02, -1.80809492e-03, ...,\n",
       "        -6.80150835e-02,  1.63058543e-02, -7.20319544e-03]])"
      ]
     },
     "execution_count": 188,
     "metadata": {},
     "output_type": "execute_result"
    }
   ],
   "source": [
    "svd.fit_transform(train_tfidf)"
   ]
  },
  {
   "cell_type": "code",
   "execution_count": 194,
   "metadata": {},
   "outputs": [
    {
     "data": {
      "text/plain": [
       "<43737x1200 sparse matrix of type '<class 'numpy.float64'>'\n",
       "\twith 231554 stored elements in Compressed Sparse Row format>"
      ]
     },
     "execution_count": 194,
     "metadata": {},
     "output_type": "execute_result"
    }
   ],
   "source": [
    "train_tfidf"
   ]
  },
  {
   "cell_type": "markdown",
   "metadata": {},
   "source": [
    "### Logistic Regression"
   ]
  },
  {
   "cell_type": "code",
   "execution_count": 192,
   "metadata": {},
   "outputs": [],
   "source": [
    "from sklearn.linear_model import LogisticRegression"
   ]
  },
  {
   "cell_type": "code",
   "execution_count": 193,
   "metadata": {},
   "outputs": [],
   "source": [
    "train_target = train_set[\"class\"]"
   ]
  },
  {
   "cell_type": "code",
   "execution_count": 195,
   "metadata": {},
   "outputs": [],
   "source": [
    "clf = LogisticRegression(random_state=0,solver='lbfgs',multi_class='multinomial').fit(train_tfidf,train_target)"
   ]
  },
  {
   "cell_type": "code",
   "execution_count": 196,
   "metadata": {},
   "outputs": [
    {
     "data": {
      "text/plain": [
       "array([1., 1., 1., ..., 1., 1., 0.])"
      ]
     },
     "execution_count": 196,
     "metadata": {},
     "output_type": "execute_result"
    }
   ],
   "source": [
    "clf.predict(train_tfidf)"
   ]
  },
  {
   "cell_type": "code",
   "execution_count": 197,
   "metadata": {},
   "outputs": [
    {
     "data": {
      "text/plain": [
       "array([1., 1., 1., ..., 1., 1., 0.])"
      ]
     },
     "execution_count": 197,
     "metadata": {},
     "output_type": "execute_result"
    }
   ],
   "source": [
    "clf.predict(test_tfidf)"
   ]
  },
  {
   "cell_type": "code",
   "execution_count": 198,
   "metadata": {},
   "outputs": [
    {
     "data": {
      "text/plain": [
       "0.7227747673594439"
      ]
     },
     "execution_count": 198,
     "metadata": {},
     "output_type": "execute_result"
    }
   ],
   "source": [
    "clf.score(train_tfidf, train_target)"
   ]
  },
  {
   "cell_type": "code",
   "execution_count": 199,
   "metadata": {},
   "outputs": [
    {
     "data": {
      "text/plain": [
       "0.700505964814557"
      ]
     },
     "execution_count": 199,
     "metadata": {},
     "output_type": "execute_result"
    }
   ],
   "source": [
    "clf.score(test_tfidf,test_set[\"class\"])"
   ]
  },
  {
   "cell_type": "code",
   "execution_count": 200,
   "metadata": {},
   "outputs": [
    {
     "data": {
      "text/plain": [
       "Unnamed: 0      43737\n",
       "business_id     43737\n",
       "text            43736\n",
       "date            43737\n",
       "attributes      42609\n",
       "categories      43722\n",
       "city            43737\n",
       "name            43737\n",
       "stars           43737\n",
       "review_count    43737\n",
       "class           43737\n",
       "tips_stars      43736\n",
       "dtype: int64"
      ]
     },
     "execution_count": 200,
     "metadata": {},
     "output_type": "execute_result"
    }
   ],
   "source": [
    "train_set.count()"
   ]
  },
  {
   "cell_type": "code",
   "execution_count": 204,
   "metadata": {},
   "outputs": [
    {
     "data": {
      "text/plain": [
       "Unnamed: 0      29505\n",
       "business_id     29505\n",
       "text            29504\n",
       "date            29505\n",
       "attributes      28946\n",
       "categories      29501\n",
       "city            29505\n",
       "name            29505\n",
       "stars           29505\n",
       "review_count    29505\n",
       "class           29505\n",
       "tips_stars      29504\n",
       "dtype: int64"
      ]
     },
     "execution_count": 204,
     "metadata": {},
     "output_type": "execute_result"
    }
   ],
   "source": [
    "train_set[train_set[\"class\"]==1.0].count()"
   ]
  },
  {
   "cell_type": "code",
   "execution_count": 205,
   "metadata": {},
   "outputs": [
    {
     "data": {
      "text/plain": [
       "0.6746004527059469"
      ]
     },
     "execution_count": 205,
     "metadata": {},
     "output_type": "execute_result"
    }
   ],
   "source": [
    "29505/43737"
   ]
  },
  {
   "cell_type": "code",
   "execution_count": null,
   "metadata": {},
   "outputs": [],
   "source": []
  },
  {
   "cell_type": "code",
   "execution_count": null,
   "metadata": {},
   "outputs": [],
   "source": []
  },
  {
   "cell_type": "code",
   "execution_count": null,
   "metadata": {},
   "outputs": [],
   "source": []
  },
  {
   "cell_type": "code",
   "execution_count": 83,
   "metadata": {},
   "outputs": [],
   "source": [
    "from sklearn.feature_extraction.text import TfidfVectorizer\n",
    "from sklearn.cluster import KMeans\n",
    "from sklearn.metrics import adjusted_rand_score\n",
    "\n",
    "documents = [\"This little kitty came to play when I was eating at a restaurant.\",\n",
    "             \"Merley has the best squooshy kitten belly.\",\n",
    "             \"Google Translate app is incredible.\",\n",
    "             \"If you open 100 tab in google you get a smiley face.\",\n",
    "             \"Best cat photo I've ever taken.\",\n",
    "             \"Climbing ninja cat.\",\n",
    "             \"Impressed with google map feedback.\",\n",
    "             \"Key promoter extension for Google Chrome.\"]\n",
    "\n",
    "vectorizer = TfidfVectorizer(stop_words='english')\n",
    "X = vectorizer.fit_transform(documents)\n",
    "\n",
    "\n",
    " "
   ]
  },
  {
   "cell_type": "code",
   "execution_count": 84,
   "metadata": {},
   "outputs": [
    {
     "data": {
      "text/plain": [
       "KMeans(algorithm='auto', copy_x=True, init='k-means++', max_iter=100,\n",
       "    n_clusters=2, n_init=1, n_jobs=1, precompute_distances='auto',\n",
       "    random_state=None, tol=0.0001, verbose=0)"
      ]
     },
     "execution_count": 84,
     "metadata": {},
     "output_type": "execute_result"
    }
   ],
   "source": [
    "true_k = 2\n",
    "model = KMeans(n_clusters=true_k, init='k-means++', max_iter=100, n_init=1)\n",
    "model.fit(X)\n",
    "\n"
   ]
  },
  {
   "cell_type": "code",
   "execution_count": 85,
   "metadata": {},
   "outputs": [
    {
     "name": "stdout",
     "output_type": "stream",
     "text": [
      "Top terms per cluster:\n"
     ]
    }
   ],
   "source": [
    "print(\"Top terms per cluster:\")\n"
   ]
  },
  {
   "cell_type": "code",
   "execution_count": 86,
   "metadata": {},
   "outputs": [
    {
     "name": "stdout",
     "output_type": "stream",
     "text": [
      "Cluster 0:\n",
      " google\n",
      " ninja\n",
      " climbing\n",
      " app\n",
      " feedback\n",
      " impressed\n",
      " incredible\n",
      " translate\n",
      " map\n",
      " cat\n",
      "Cluster 1:\n",
      " best\n",
      " ve\n",
      " photo\n",
      " taken\n",
      " belly\n",
      " merley\n",
      " kitten\n",
      " squooshy\n",
      " restaurant\n",
      " came\n"
     ]
    }
   ],
   "source": [
    "order_centroids = model.cluster_centers_.argsort()[:, ::-1]\n",
    "terms = vectorizer.get_feature_names()\n",
    "for i in range(true_k):\n",
    "    print(\"Cluster %d:\" % i),\n",
    "    for ind in order_centroids[i, :10]:\n",
    "        print(' %s' % terms[ind]),\n",
    "    print\n",
    "\n"
   ]
  },
  {
   "cell_type": "code",
   "execution_count": null,
   "metadata": {},
   "outputs": [],
   "source": [
    "print(\"\\n\")\n",
    "print(\"Prediction\")\n",
    "\n",
    "Y = vectorizer.transform([\"chrome browser to open.\"])\n",
    "prediction = model.predict(Y)\n",
    "print(prediction)\n",
    "\n",
    "Y = vectorizer.transform([\"My cat is hungry.\"])\n",
    "prediction = model.predict(Y)\n",
    "print(prediction)"
   ]
  }
 ],
 "metadata": {
  "kernelspec": {
   "display_name": "Python 3",
   "language": "python",
   "name": "python3"
  },
  "language_info": {
   "codemirror_mode": {
    "name": "ipython",
    "version": 3
   },
   "file_extension": ".py",
   "mimetype": "text/x-python",
   "name": "python",
   "nbconvert_exporter": "python",
   "pygments_lexer": "ipython3",
   "version": "3.6.5"
  }
 },
 "nbformat": 4,
 "nbformat_minor": 2
}
