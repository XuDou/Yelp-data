{
 "cells": [
  {
   "cell_type": "code",
   "execution_count": 1,
   "metadata": {},
   "outputs": [],
   "source": [
    "import pandas as pd\n",
    "import ijson\n",
    "import numpy as np\n",
    "import json\n",
    "import io\n",
    "import os"
   ]
  },
  {
   "cell_type": "code",
   "execution_count": 20,
   "metadata": {},
   "outputs": [],
   "source": [
    "data = pd.read_csv('LasVegas_tips_after2017.csv')"
   ]
  },
  {
   "cell_type": "code",
   "execution_count": 8,
   "metadata": {},
   "outputs": [
    {
     "data": {
      "text/html": [
       "<div>\n",
       "<style scoped>\n",
       "    .dataframe tbody tr th:only-of-type {\n",
       "        vertical-align: middle;\n",
       "    }\n",
       "\n",
       "    .dataframe tbody tr th {\n",
       "        vertical-align: top;\n",
       "    }\n",
       "\n",
       "    .dataframe thead th {\n",
       "        text-align: right;\n",
       "    }\n",
       "</style>\n",
       "<table border=\"1\" class=\"dataframe\">\n",
       "  <thead>\n",
       "    <tr style=\"text-align: right;\">\n",
       "      <th></th>\n",
       "      <th>Unnamed: 0</th>\n",
       "      <th>business_id</th>\n",
       "      <th>text</th>\n",
       "      <th>date</th>\n",
       "      <th>attributes</th>\n",
       "      <th>categories</th>\n",
       "      <th>city</th>\n",
       "      <th>name</th>\n",
       "      <th>stars</th>\n",
       "      <th>review_count</th>\n",
       "    </tr>\n",
       "  </thead>\n",
       "  <tbody>\n",
       "    <tr>\n",
       "      <th>0</th>\n",
       "      <td>8</td>\n",
       "      <td>KPgyqG3MyFUDK7GRbUg51A</td>\n",
       "      <td>Kelly Paun was so full of knowledge and was so...</td>\n",
       "      <td>2017-03-23</td>\n",
       "      <td>NaN</td>\n",
       "      <td>Landmarks &amp; Historical Buildings, Travel Servi...</td>\n",
       "      <td>Las Vegas</td>\n",
       "      <td>Pink Jeep Tours</td>\n",
       "      <td>4.5</td>\n",
       "      <td>136</td>\n",
       "    </tr>\n",
       "    <tr>\n",
       "      <th>1</th>\n",
       "      <td>20</td>\n",
       "      <td>JtNVcqioJhS8GZ-If30oHg</td>\n",
       "      <td>Make sure you sign up for Emerald club before ...</td>\n",
       "      <td>2018-03-29</td>\n",
       "      <td>NaN</td>\n",
       "      <td>Automotive, Hotels &amp; Travel, Car Rental</td>\n",
       "      <td>Las Vegas</td>\n",
       "      <td>National Car Rental</td>\n",
       "      <td>4.0</td>\n",
       "      <td>224</td>\n",
       "    </tr>\n",
       "    <tr>\n",
       "      <th>2</th>\n",
       "      <td>34</td>\n",
       "      <td>gh6__q2WXFuyN8gt6VAnWw</td>\n",
       "      <td>Very delicious food with very fast delivery!</td>\n",
       "      <td>2017-09-24</td>\n",
       "      <td>{'Alcohol': 'full_bar', 'Ambience': \"{'romanti...</td>\n",
       "      <td>Seafood, Restaurants, Steakhouses, Greek, Fren...</td>\n",
       "      <td>Las Vegas</td>\n",
       "      <td>Vila Algarve</td>\n",
       "      <td>4.5</td>\n",
       "      <td>189</td>\n",
       "    </tr>\n",
       "    <tr>\n",
       "      <th>3</th>\n",
       "      <td>55</td>\n",
       "      <td>gh6__q2WXFuyN8gt6VAnWw</td>\n",
       "      <td>Amazing Portuguese food! Linguica (chirizo) is...</td>\n",
       "      <td>2017-12-11</td>\n",
       "      <td>{'Alcohol': 'full_bar', 'Ambience': \"{'romanti...</td>\n",
       "      <td>Seafood, Restaurants, Steakhouses, Greek, Fren...</td>\n",
       "      <td>Las Vegas</td>\n",
       "      <td>Vila Algarve</td>\n",
       "      <td>4.5</td>\n",
       "      <td>189</td>\n",
       "    </tr>\n",
       "    <tr>\n",
       "      <th>4</th>\n",
       "      <td>56</td>\n",
       "      <td>gh6__q2WXFuyN8gt6VAnWw</td>\n",
       "      <td>All the way from Porto portugal lost off love!...</td>\n",
       "      <td>2018-04-10</td>\n",
       "      <td>{'Alcohol': 'full_bar', 'Ambience': \"{'romanti...</td>\n",
       "      <td>Seafood, Restaurants, Steakhouses, Greek, Fren...</td>\n",
       "      <td>Las Vegas</td>\n",
       "      <td>Vila Algarve</td>\n",
       "      <td>4.5</td>\n",
       "      <td>189</td>\n",
       "    </tr>\n",
       "  </tbody>\n",
       "</table>\n",
       "</div>"
      ],
      "text/plain": [
       "   Unnamed: 0             business_id  \\\n",
       "0           8  KPgyqG3MyFUDK7GRbUg51A   \n",
       "1          20  JtNVcqioJhS8GZ-If30oHg   \n",
       "2          34  gh6__q2WXFuyN8gt6VAnWw   \n",
       "3          55  gh6__q2WXFuyN8gt6VAnWw   \n",
       "4          56  gh6__q2WXFuyN8gt6VAnWw   \n",
       "\n",
       "                                                text        date  \\\n",
       "0  Kelly Paun was so full of knowledge and was so...  2017-03-23   \n",
       "1  Make sure you sign up for Emerald club before ...  2018-03-29   \n",
       "2       Very delicious food with very fast delivery!  2017-09-24   \n",
       "3  Amazing Portuguese food! Linguica (chirizo) is...  2017-12-11   \n",
       "4  All the way from Porto portugal lost off love!...  2018-04-10   \n",
       "\n",
       "                                          attributes  \\\n",
       "0                                                NaN   \n",
       "1                                                NaN   \n",
       "2  {'Alcohol': 'full_bar', 'Ambience': \"{'romanti...   \n",
       "3  {'Alcohol': 'full_bar', 'Ambience': \"{'romanti...   \n",
       "4  {'Alcohol': 'full_bar', 'Ambience': \"{'romanti...   \n",
       "\n",
       "                                          categories       city  \\\n",
       "0  Landmarks & Historical Buildings, Travel Servi...  Las Vegas   \n",
       "1            Automotive, Hotels & Travel, Car Rental  Las Vegas   \n",
       "2  Seafood, Restaurants, Steakhouses, Greek, Fren...  Las Vegas   \n",
       "3  Seafood, Restaurants, Steakhouses, Greek, Fren...  Las Vegas   \n",
       "4  Seafood, Restaurants, Steakhouses, Greek, Fren...  Las Vegas   \n",
       "\n",
       "                  name  stars  review_count  \n",
       "0      Pink Jeep Tours    4.5           136  \n",
       "1  National Car Rental    4.0           224  \n",
       "2         Vila Algarve    4.5           189  \n",
       "3         Vila Algarve    4.5           189  \n",
       "4         Vila Algarve    4.5           189  "
      ]
     },
     "execution_count": 8,
     "metadata": {},
     "output_type": "execute_result"
    }
   ],
   "source": [
    "data.head()"
   ]
  },
  {
   "cell_type": "code",
   "execution_count": 11,
   "metadata": {},
   "outputs": [
    {
     "data": {
      "text/plain": [
       "Unnamed: 0        int64\n",
       "business_id      object\n",
       "text             object\n",
       "date             object\n",
       "attributes       object\n",
       "categories       object\n",
       "city             object\n",
       "name             object\n",
       "stars           float64\n",
       "review_count      int64\n",
       "dtype: object"
      ]
     },
     "execution_count": 11,
     "metadata": {},
     "output_type": "execute_result"
    }
   ],
   "source": [
    "data.dtypes"
   ]
  },
  {
   "cell_type": "markdown",
   "metadata": {},
   "source": [
    "## Define a categorical variable"
   ]
  },
  {
   "cell_type": "code",
   "execution_count": 12,
   "metadata": {},
   "outputs": [
    {
     "data": {
      "text/plain": [
       "RangeIndex(start=0, stop=65280, step=1)"
      ]
     },
     "execution_count": 12,
     "metadata": {},
     "output_type": "execute_result"
    }
   ],
   "source": [
    "data.index"
   ]
  },
  {
   "cell_type": "code",
   "execution_count": 22,
   "metadata": {},
   "outputs": [],
   "source": [
    "stars = np.array(data['stars'])"
   ]
  },
  {
   "cell_type": "code",
   "execution_count": 23,
   "metadata": {},
   "outputs": [],
   "source": [
    "##1.0 means good; 0.0 means not good, bad ...\n",
    "stars[stars<4.0] = 0.0\n",
    "stars[stars>=4.0] = 1.0\n",
    "data['class'] = stars"
   ]
  },
  {
   "cell_type": "code",
   "execution_count": 25,
   "metadata": {
    "scrolled": true
   },
   "outputs": [
    {
     "data": {
      "text/html": [
       "<div>\n",
       "<style scoped>\n",
       "    .dataframe tbody tr th:only-of-type {\n",
       "        vertical-align: middle;\n",
       "    }\n",
       "\n",
       "    .dataframe tbody tr th {\n",
       "        vertical-align: top;\n",
       "    }\n",
       "\n",
       "    .dataframe thead th {\n",
       "        text-align: right;\n",
       "    }\n",
       "</style>\n",
       "<table border=\"1\" class=\"dataframe\">\n",
       "  <thead>\n",
       "    <tr style=\"text-align: right;\">\n",
       "      <th></th>\n",
       "      <th>Unnamed: 0</th>\n",
       "      <th>business_id</th>\n",
       "      <th>text</th>\n",
       "      <th>date</th>\n",
       "      <th>attributes</th>\n",
       "      <th>categories</th>\n",
       "      <th>city</th>\n",
       "      <th>name</th>\n",
       "      <th>stars</th>\n",
       "      <th>review_count</th>\n",
       "      <th>class</th>\n",
       "    </tr>\n",
       "  </thead>\n",
       "  <tbody>\n",
       "    <tr>\n",
       "      <th>0</th>\n",
       "      <td>8</td>\n",
       "      <td>KPgyqG3MyFUDK7GRbUg51A</td>\n",
       "      <td>Kelly Paun was so full of knowledge and was so...</td>\n",
       "      <td>2017-03-23</td>\n",
       "      <td>NaN</td>\n",
       "      <td>Landmarks &amp; Historical Buildings, Travel Servi...</td>\n",
       "      <td>Las Vegas</td>\n",
       "      <td>Pink Jeep Tours</td>\n",
       "      <td>4.5</td>\n",
       "      <td>136</td>\n",
       "      <td>1.0</td>\n",
       "    </tr>\n",
       "    <tr>\n",
       "      <th>1</th>\n",
       "      <td>20</td>\n",
       "      <td>JtNVcqioJhS8GZ-If30oHg</td>\n",
       "      <td>Make sure you sign up for Emerald club before ...</td>\n",
       "      <td>2018-03-29</td>\n",
       "      <td>NaN</td>\n",
       "      <td>Automotive, Hotels &amp; Travel, Car Rental</td>\n",
       "      <td>Las Vegas</td>\n",
       "      <td>National Car Rental</td>\n",
       "      <td>4.0</td>\n",
       "      <td>224</td>\n",
       "      <td>1.0</td>\n",
       "    </tr>\n",
       "    <tr>\n",
       "      <th>2</th>\n",
       "      <td>34</td>\n",
       "      <td>gh6__q2WXFuyN8gt6VAnWw</td>\n",
       "      <td>Very delicious food with very fast delivery!</td>\n",
       "      <td>2017-09-24</td>\n",
       "      <td>{'Alcohol': 'full_bar', 'Ambience': \"{'romanti...</td>\n",
       "      <td>Seafood, Restaurants, Steakhouses, Greek, Fren...</td>\n",
       "      <td>Las Vegas</td>\n",
       "      <td>Vila Algarve</td>\n",
       "      <td>4.5</td>\n",
       "      <td>189</td>\n",
       "      <td>1.0</td>\n",
       "    </tr>\n",
       "    <tr>\n",
       "      <th>3</th>\n",
       "      <td>55</td>\n",
       "      <td>gh6__q2WXFuyN8gt6VAnWw</td>\n",
       "      <td>Amazing Portuguese food! Linguica (chirizo) is...</td>\n",
       "      <td>2017-12-11</td>\n",
       "      <td>{'Alcohol': 'full_bar', 'Ambience': \"{'romanti...</td>\n",
       "      <td>Seafood, Restaurants, Steakhouses, Greek, Fren...</td>\n",
       "      <td>Las Vegas</td>\n",
       "      <td>Vila Algarve</td>\n",
       "      <td>4.5</td>\n",
       "      <td>189</td>\n",
       "      <td>1.0</td>\n",
       "    </tr>\n",
       "    <tr>\n",
       "      <th>4</th>\n",
       "      <td>56</td>\n",
       "      <td>gh6__q2WXFuyN8gt6VAnWw</td>\n",
       "      <td>All the way from Porto portugal lost off love!...</td>\n",
       "      <td>2018-04-10</td>\n",
       "      <td>{'Alcohol': 'full_bar', 'Ambience': \"{'romanti...</td>\n",
       "      <td>Seafood, Restaurants, Steakhouses, Greek, Fren...</td>\n",
       "      <td>Las Vegas</td>\n",
       "      <td>Vila Algarve</td>\n",
       "      <td>4.5</td>\n",
       "      <td>189</td>\n",
       "      <td>1.0</td>\n",
       "    </tr>\n",
       "    <tr>\n",
       "      <th>5</th>\n",
       "      <td>57</td>\n",
       "      <td>u_8cVZyxh0J468zEZUjNDQ</td>\n",
       "      <td>The pizza is literally the size of my head. An...</td>\n",
       "      <td>2018-02-24</td>\n",
       "      <td>{'Alcohol': 'beer_and_wine', 'Ambience': \"{'ro...</td>\n",
       "      <td>Pizza, Restaurants</td>\n",
       "      <td>Las Vegas</td>\n",
       "      <td>Pin-Up Pizza</td>\n",
       "      <td>3.5</td>\n",
       "      <td>552</td>\n",
       "      <td>0.0</td>\n",
       "    </tr>\n",
       "    <tr>\n",
       "      <th>6</th>\n",
       "      <td>61</td>\n",
       "      <td>u_8cVZyxh0J468zEZUjNDQ</td>\n",
       "      <td>1 whole Cheese Pizza is $75!!! gtfo</td>\n",
       "      <td>2018-02-06</td>\n",
       "      <td>{'Alcohol': 'beer_and_wine', 'Ambience': \"{'ro...</td>\n",
       "      <td>Pizza, Restaurants</td>\n",
       "      <td>Las Vegas</td>\n",
       "      <td>Pin-Up Pizza</td>\n",
       "      <td>3.5</td>\n",
       "      <td>552</td>\n",
       "      <td>0.0</td>\n",
       "    </tr>\n",
       "    <tr>\n",
       "      <th>7</th>\n",
       "      <td>62</td>\n",
       "      <td>u_8cVZyxh0J468zEZUjNDQ</td>\n",
       "      <td>How much is a whole pie?</td>\n",
       "      <td>2018-03-18</td>\n",
       "      <td>{'Alcohol': 'beer_and_wine', 'Ambience': \"{'ro...</td>\n",
       "      <td>Pizza, Restaurants</td>\n",
       "      <td>Las Vegas</td>\n",
       "      <td>Pin-Up Pizza</td>\n",
       "      <td>3.5</td>\n",
       "      <td>552</td>\n",
       "      <td>0.0</td>\n",
       "    </tr>\n",
       "    <tr>\n",
       "      <th>8</th>\n",
       "      <td>65</td>\n",
       "      <td>u_8cVZyxh0J468zEZUjNDQ</td>\n",
       "      <td>Quantity is valued more than quality here, tha...</td>\n",
       "      <td>2017-03-18</td>\n",
       "      <td>{'Alcohol': 'beer_and_wine', 'Ambience': \"{'ro...</td>\n",
       "      <td>Pizza, Restaurants</td>\n",
       "      <td>Las Vegas</td>\n",
       "      <td>Pin-Up Pizza</td>\n",
       "      <td>3.5</td>\n",
       "      <td>552</td>\n",
       "      <td>0.0</td>\n",
       "    </tr>\n",
       "    <tr>\n",
       "      <th>9</th>\n",
       "      <td>66</td>\n",
       "      <td>u_8cVZyxh0J468zEZUjNDQ</td>\n",
       "      <td>The only slice of pizza I've tossed without fi...</td>\n",
       "      <td>2018-05-19</td>\n",
       "      <td>{'Alcohol': 'beer_and_wine', 'Ambience': \"{'ro...</td>\n",
       "      <td>Pizza, Restaurants</td>\n",
       "      <td>Las Vegas</td>\n",
       "      <td>Pin-Up Pizza</td>\n",
       "      <td>3.5</td>\n",
       "      <td>552</td>\n",
       "      <td>0.0</td>\n",
       "    </tr>\n",
       "    <tr>\n",
       "      <th>10</th>\n",
       "      <td>67</td>\n",
       "      <td>u_8cVZyxh0J468zEZUjNDQ</td>\n",
       "      <td>Expect Pin-Up to close shortly, for the same r...</td>\n",
       "      <td>2018-06-01</td>\n",
       "      <td>{'Alcohol': 'beer_and_wine', 'Ambience': \"{'ro...</td>\n",
       "      <td>Pizza, Restaurants</td>\n",
       "      <td>Las Vegas</td>\n",
       "      <td>Pin-Up Pizza</td>\n",
       "      <td>3.5</td>\n",
       "      <td>552</td>\n",
       "      <td>0.0</td>\n",
       "    </tr>\n",
       "    <tr>\n",
       "      <th>11</th>\n",
       "      <td>71</td>\n",
       "      <td>u_8cVZyxh0J468zEZUjNDQ</td>\n",
       "      <td>Great pizza ! Will return for sure</td>\n",
       "      <td>2018-04-16</td>\n",
       "      <td>{'Alcohol': 'beer_and_wine', 'Ambience': \"{'ro...</td>\n",
       "      <td>Pizza, Restaurants</td>\n",
       "      <td>Las Vegas</td>\n",
       "      <td>Pin-Up Pizza</td>\n",
       "      <td>3.5</td>\n",
       "      <td>552</td>\n",
       "      <td>0.0</td>\n",
       "    </tr>\n",
       "    <tr>\n",
       "      <th>12</th>\n",
       "      <td>72</td>\n",
       "      <td>u_8cVZyxh0J468zEZUjNDQ</td>\n",
       "      <td>At the strip by Planet Hollywood. The biggest ...</td>\n",
       "      <td>2018-06-04</td>\n",
       "      <td>{'Alcohol': 'beer_and_wine', 'Ambience': \"{'ro...</td>\n",
       "      <td>Pizza, Restaurants</td>\n",
       "      <td>Las Vegas</td>\n",
       "      <td>Pin-Up Pizza</td>\n",
       "      <td>3.5</td>\n",
       "      <td>552</td>\n",
       "      <td>0.0</td>\n",
       "    </tr>\n",
       "    <tr>\n",
       "      <th>13</th>\n",
       "      <td>76</td>\n",
       "      <td>u_8cVZyxh0J468zEZUjNDQ</td>\n",
       "      <td>3/17/18: no garlic knots or cannolis available...</td>\n",
       "      <td>2018-03-17</td>\n",
       "      <td>{'Alcohol': 'beer_and_wine', 'Ambience': \"{'ro...</td>\n",
       "      <td>Pizza, Restaurants</td>\n",
       "      <td>Las Vegas</td>\n",
       "      <td>Pin-Up Pizza</td>\n",
       "      <td>3.5</td>\n",
       "      <td>552</td>\n",
       "      <td>0.0</td>\n",
       "    </tr>\n",
       "    <tr>\n",
       "      <th>14</th>\n",
       "      <td>84</td>\n",
       "      <td>u_8cVZyxh0J468zEZUjNDQ</td>\n",
       "      <td>Name changed to Ringers now</td>\n",
       "      <td>2018-04-29</td>\n",
       "      <td>{'Alcohol': 'beer_and_wine', 'Ambience': \"{'ro...</td>\n",
       "      <td>Pizza, Restaurants</td>\n",
       "      <td>Las Vegas</td>\n",
       "      <td>Pin-Up Pizza</td>\n",
       "      <td>3.5</td>\n",
       "      <td>552</td>\n",
       "      <td>0.0</td>\n",
       "    </tr>\n",
       "  </tbody>\n",
       "</table>\n",
       "</div>"
      ],
      "text/plain": [
       "    Unnamed: 0             business_id  \\\n",
       "0            8  KPgyqG3MyFUDK7GRbUg51A   \n",
       "1           20  JtNVcqioJhS8GZ-If30oHg   \n",
       "2           34  gh6__q2WXFuyN8gt6VAnWw   \n",
       "3           55  gh6__q2WXFuyN8gt6VAnWw   \n",
       "4           56  gh6__q2WXFuyN8gt6VAnWw   \n",
       "5           57  u_8cVZyxh0J468zEZUjNDQ   \n",
       "6           61  u_8cVZyxh0J468zEZUjNDQ   \n",
       "7           62  u_8cVZyxh0J468zEZUjNDQ   \n",
       "8           65  u_8cVZyxh0J468zEZUjNDQ   \n",
       "9           66  u_8cVZyxh0J468zEZUjNDQ   \n",
       "10          67  u_8cVZyxh0J468zEZUjNDQ   \n",
       "11          71  u_8cVZyxh0J468zEZUjNDQ   \n",
       "12          72  u_8cVZyxh0J468zEZUjNDQ   \n",
       "13          76  u_8cVZyxh0J468zEZUjNDQ   \n",
       "14          84  u_8cVZyxh0J468zEZUjNDQ   \n",
       "\n",
       "                                                 text        date  \\\n",
       "0   Kelly Paun was so full of knowledge and was so...  2017-03-23   \n",
       "1   Make sure you sign up for Emerald club before ...  2018-03-29   \n",
       "2        Very delicious food with very fast delivery!  2017-09-24   \n",
       "3   Amazing Portuguese food! Linguica (chirizo) is...  2017-12-11   \n",
       "4   All the way from Porto portugal lost off love!...  2018-04-10   \n",
       "5   The pizza is literally the size of my head. An...  2018-02-24   \n",
       "6                 1 whole Cheese Pizza is $75!!! gtfo  2018-02-06   \n",
       "7                            How much is a whole pie?  2018-03-18   \n",
       "8   Quantity is valued more than quality here, tha...  2017-03-18   \n",
       "9   The only slice of pizza I've tossed without fi...  2018-05-19   \n",
       "10  Expect Pin-Up to close shortly, for the same r...  2018-06-01   \n",
       "11                 Great pizza ! Will return for sure  2018-04-16   \n",
       "12  At the strip by Planet Hollywood. The biggest ...  2018-06-04   \n",
       "13  3/17/18: no garlic knots or cannolis available...  2018-03-17   \n",
       "14                        Name changed to Ringers now  2018-04-29   \n",
       "\n",
       "                                           attributes  \\\n",
       "0                                                 NaN   \n",
       "1                                                 NaN   \n",
       "2   {'Alcohol': 'full_bar', 'Ambience': \"{'romanti...   \n",
       "3   {'Alcohol': 'full_bar', 'Ambience': \"{'romanti...   \n",
       "4   {'Alcohol': 'full_bar', 'Ambience': \"{'romanti...   \n",
       "5   {'Alcohol': 'beer_and_wine', 'Ambience': \"{'ro...   \n",
       "6   {'Alcohol': 'beer_and_wine', 'Ambience': \"{'ro...   \n",
       "7   {'Alcohol': 'beer_and_wine', 'Ambience': \"{'ro...   \n",
       "8   {'Alcohol': 'beer_and_wine', 'Ambience': \"{'ro...   \n",
       "9   {'Alcohol': 'beer_and_wine', 'Ambience': \"{'ro...   \n",
       "10  {'Alcohol': 'beer_and_wine', 'Ambience': \"{'ro...   \n",
       "11  {'Alcohol': 'beer_and_wine', 'Ambience': \"{'ro...   \n",
       "12  {'Alcohol': 'beer_and_wine', 'Ambience': \"{'ro...   \n",
       "13  {'Alcohol': 'beer_and_wine', 'Ambience': \"{'ro...   \n",
       "14  {'Alcohol': 'beer_and_wine', 'Ambience': \"{'ro...   \n",
       "\n",
       "                                           categories       city  \\\n",
       "0   Landmarks & Historical Buildings, Travel Servi...  Las Vegas   \n",
       "1             Automotive, Hotels & Travel, Car Rental  Las Vegas   \n",
       "2   Seafood, Restaurants, Steakhouses, Greek, Fren...  Las Vegas   \n",
       "3   Seafood, Restaurants, Steakhouses, Greek, Fren...  Las Vegas   \n",
       "4   Seafood, Restaurants, Steakhouses, Greek, Fren...  Las Vegas   \n",
       "5                                  Pizza, Restaurants  Las Vegas   \n",
       "6                                  Pizza, Restaurants  Las Vegas   \n",
       "7                                  Pizza, Restaurants  Las Vegas   \n",
       "8                                  Pizza, Restaurants  Las Vegas   \n",
       "9                                  Pizza, Restaurants  Las Vegas   \n",
       "10                                 Pizza, Restaurants  Las Vegas   \n",
       "11                                 Pizza, Restaurants  Las Vegas   \n",
       "12                                 Pizza, Restaurants  Las Vegas   \n",
       "13                                 Pizza, Restaurants  Las Vegas   \n",
       "14                                 Pizza, Restaurants  Las Vegas   \n",
       "\n",
       "                   name  stars  review_count  class  \n",
       "0       Pink Jeep Tours    4.5           136    1.0  \n",
       "1   National Car Rental    4.0           224    1.0  \n",
       "2          Vila Algarve    4.5           189    1.0  \n",
       "3          Vila Algarve    4.5           189    1.0  \n",
       "4          Vila Algarve    4.5           189    1.0  \n",
       "5          Pin-Up Pizza    3.5           552    0.0  \n",
       "6          Pin-Up Pizza    3.5           552    0.0  \n",
       "7          Pin-Up Pizza    3.5           552    0.0  \n",
       "8          Pin-Up Pizza    3.5           552    0.0  \n",
       "9          Pin-Up Pizza    3.5           552    0.0  \n",
       "10         Pin-Up Pizza    3.5           552    0.0  \n",
       "11         Pin-Up Pizza    3.5           552    0.0  \n",
       "12         Pin-Up Pizza    3.5           552    0.0  \n",
       "13         Pin-Up Pizza    3.5           552    0.0  \n",
       "14         Pin-Up Pizza    3.5           552    0.0  "
      ]
     },
     "execution_count": 25,
     "metadata": {},
     "output_type": "execute_result"
    }
   ],
   "source": [
    "data.head(15)"
   ]
  },
  {
   "cell_type": "markdown",
   "metadata": {},
   "source": [
    "#### A glimpse onto the statistics of the class variable"
   ]
  },
  {
   "cell_type": "code",
   "execution_count": 29,
   "metadata": {},
   "outputs": [
    {
     "data": {
      "text/plain": [
       "count    65280.000000\n",
       "mean         3.908058\n",
       "std          0.703868\n",
       "min          1.000000\n",
       "25%          3.500000\n",
       "50%          4.000000\n",
       "75%          4.500000\n",
       "max          5.000000\n",
       "Name: stars, dtype: float64"
      ]
     },
     "execution_count": 29,
     "metadata": {},
     "output_type": "execute_result"
    }
   ],
   "source": [
    "data['stars'].describe()"
   ]
  },
  {
   "cell_type": "code",
   "execution_count": 26,
   "metadata": {},
   "outputs": [
    {
     "data": {
      "text/plain": [
       "count    65280.000000\n",
       "mean         0.672733\n",
       "std          0.469219\n",
       "min          0.000000\n",
       "25%          0.000000\n",
       "50%          1.000000\n",
       "75%          1.000000\n",
       "max          1.000000\n",
       "Name: class, dtype: float64"
      ]
     },
     "execution_count": 26,
     "metadata": {},
     "output_type": "execute_result"
    }
   ],
   "source": [
    "data['class'].describe()"
   ]
  },
  {
   "cell_type": "markdown",
   "metadata": {},
   "source": [
    "#### Split the dataset into training set and test set "
   ]
  },
  {
   "cell_type": "code",
   "execution_count": 32,
   "metadata": {},
   "outputs": [],
   "source": [
    "from sklearn.model_selection import train_test_split"
   ]
  },
  {
   "cell_type": "code",
   "execution_count": 33,
   "metadata": {},
   "outputs": [],
   "source": [
    "train_set, test_set = train_test_split(\n",
    "...     data, test_size=0.33, random_state=42)"
   ]
  },
  {
   "cell_type": "markdown",
   "metadata": {},
   "source": [
    "#### tf-idf"
   ]
  },
  {
   "cell_type": "code",
   "execution_count": null,
   "metadata": {},
   "outputs": [],
   "source": []
  },
  {
   "cell_type": "code",
   "execution_count": 90,
   "metadata": {},
   "outputs": [],
   "source": [
    "from sklearn.feature_extraction.text import TfidfVectorizer\n",
    "vectorizer =  TfidfVectorizer(max_features=1000,stop_words='english')"
   ]
  },
  {
   "cell_type": "code",
   "execution_count": 91,
   "metadata": {},
   "outputs": [
    {
     "data": {
      "text/plain": [
       "TfidfVectorizer(analyzer='word', binary=False, decode_error='strict',\n",
       "        dtype=<class 'numpy.int64'>, encoding='utf-8', input='content',\n",
       "        lowercase=True, max_df=1.0, max_features=1000, min_df=1,\n",
       "        ngram_range=(1, 1), norm='l2', preprocessor=None, smooth_idf=True,\n",
       "        stop_words='english', strip_accents=None, sublinear_tf=False,\n",
       "        token_pattern='(?u)\\\\b\\\\w\\\\w+\\\\b', tokenizer=None, use_idf=True,\n",
       "        vocabulary=None)"
      ]
     },
     "execution_count": 91,
     "metadata": {},
     "output_type": "execute_result"
    }
   ],
   "source": [
    "vectorizer.fit(data['text'].values.astype('U'))"
   ]
  },
  {
   "cell_type": "code",
   "execution_count": 108,
   "metadata": {},
   "outputs": [],
   "source": [
    "train_tfidf = vectorizer.transform(train_set['text'].values.astype('U'))"
   ]
  },
  {
   "cell_type": "code",
   "execution_count": 93,
   "metadata": {},
   "outputs": [],
   "source": [
    "test_tfidf = vectorizer.transform(test_set['text'].values.astype('U'))"
   ]
  },
  {
   "cell_type": "code",
   "execution_count": 106,
   "metadata": {},
   "outputs": [
    {
     "data": {
      "text/plain": [
       "(43737, 1000)"
      ]
     },
     "execution_count": 106,
     "metadata": {},
     "output_type": "execute_result"
    }
   ],
   "source": [
    "train_tfidf.shape"
   ]
  },
  {
   "cell_type": "code",
   "execution_count": 95,
   "metadata": {},
   "outputs": [
    {
     "data": {
      "text/plain": [
       "(21543, 1000)"
      ]
     },
     "execution_count": 95,
     "metadata": {},
     "output_type": "execute_result"
    }
   ],
   "source": [
    "test_tfidf.shape"
   ]
  },
  {
   "cell_type": "code",
   "execution_count": 58,
   "metadata": {},
   "outputs": [],
   "source": [
    "#print(vectorizer.get_feature_names())"
   ]
  },
  {
   "cell_type": "markdown",
   "metadata": {},
   "source": [
    "### K Means"
   ]
  },
  {
   "cell_type": "code",
   "execution_count": 110,
   "metadata": {},
   "outputs": [],
   "source": [
    "from sklearn.cluster import KMeans\n",
    "from sklearn.metrics import adjusted_rand_score\n",
    "\n",
    "from sklearn_pandas import DataFrameMapper"
   ]
  },
  {
   "cell_type": "code",
   "execution_count": 100,
   "metadata": {},
   "outputs": [
    {
     "data": {
      "text/plain": [
       "KMeans(algorithm='auto', copy_x=True, init='k-means++', max_iter=100,\n",
       "    n_clusters=8, n_init=1, n_jobs=1, precompute_distances='auto',\n",
       "    random_state=None, tol=0.0001, verbose=0)"
      ]
     },
     "execution_count": 100,
     "metadata": {},
     "output_type": "execute_result"
    }
   ],
   "source": [
    "K = 8\n",
    "KMeans_model = KMeans(n_clusters=K, init='k-means++', max_iter=100, n_init=1)\n",
    "KMeans_model.fit(train_tfidf)"
   ]
  },
  {
   "cell_type": "code",
   "execution_count": 109,
   "metadata": {},
   "outputs": [
    {
     "name": "stdout",
     "output_type": "stream",
     "text": [
      "Cluster 0:\n",
      " good\n",
      " food\n",
      " place\n",
      " service\n",
      " awesome\n",
      " delicious\n",
      " nice\n",
      " great\n",
      " friendly\n",
      " staff\n",
      "Cluster 1:\n",
      " best\n",
      " vegas\n",
      " town\n",
      " ve\n",
      " place\n",
      " las\n",
      " food\n",
      " service\n",
      " hands\n",
      " pizza\n",
      "Cluster 2:\n",
      " fast\n",
      " service\n",
      " friendly\n",
      " great\n",
      " food\n",
      " good\n",
      " super\n",
      " delivery\n",
      " place\n",
      " staff\n",
      "Cluster 3:\n",
      " great\n",
      " service\n",
      " food\n",
      " place\n",
      " good\n",
      " customer\n",
      " staff\n",
      " friendly\n",
      " awesome\n",
      " excellent\n",
      "Cluster 4:\n",
      " chicken\n",
      " fried\n",
      " good\n",
      " waffles\n",
      " best\n",
      " wings\n",
      " great\n",
      " food\n",
      " amazing\n",
      " love\n",
      "Cluster 5:\n",
      " amazing\n",
      " food\n",
      " service\n",
      " great\n",
      " place\n",
      " staff\n",
      " customer\n",
      " definitely\n",
      " best\n",
      " love\n",
      "Cluster 6:\n",
      " love\n",
      " place\n",
      " food\n",
      " great\n",
      " service\n",
      " good\n",
      " staff\n",
      " friendly\n",
      " awesome\n",
      " delicious\n",
      "Cluster 7:\n",
      " don\n",
      " time\n",
      " just\n",
      " happy\n",
      " hour\n",
      " come\n",
      " good\n",
      " place\n",
      " like\n",
      " food\n"
     ]
    }
   ],
   "source": [
    "order_centroids = KMeans_model.cluster_centers_.argsort()[:, ::-1]\n",
    "terms = vectorizer.get_feature_names()\n",
    "for i in range(K):\n",
    "    print(\"Cluster %d:\" % i),\n",
    "    for ind in order_centroids[i, :10]:\n",
    "        print(' %s' % terms[ind]),\n",
    "    print"
   ]
  },
  {
   "cell_type": "code",
   "execution_count": 89,
   "metadata": {},
   "outputs": [
    {
     "data": {
      "text/plain": [
       "['100',\n",
       " 'app',\n",
       " 'belly',\n",
       " 'best',\n",
       " 'came',\n",
       " 'cat',\n",
       " 'chrome',\n",
       " 'climbing',\n",
       " 'eating',\n",
       " 'extension',\n",
       " 'face',\n",
       " 'feedback',\n",
       " 'google',\n",
       " 'impressed',\n",
       " 'incredible',\n",
       " 'key',\n",
       " 'kitten',\n",
       " 'kitty',\n",
       " 'little',\n",
       " 'map',\n",
       " 'merley',\n",
       " 'ninja',\n",
       " 'open',\n",
       " 'photo',\n",
       " 'play',\n",
       " 'promoter',\n",
       " 'restaurant',\n",
       " 'smiley',\n",
       " 'squooshy',\n",
       " 'tab',\n",
       " 'taken',\n",
       " 'translate',\n",
       " 've']"
      ]
     },
     "execution_count": 89,
     "metadata": {},
     "output_type": "execute_result"
    }
   ],
   "source": [
    "terms"
   ]
  },
  {
   "cell_type": "code",
   "execution_count": null,
   "metadata": {},
   "outputs": [],
   "source": []
  },
  {
   "cell_type": "code",
   "execution_count": null,
   "metadata": {},
   "outputs": [],
   "source": []
  },
  {
   "cell_type": "code",
   "execution_count": null,
   "metadata": {},
   "outputs": [],
   "source": []
  },
  {
   "cell_type": "code",
   "execution_count": null,
   "metadata": {},
   "outputs": [],
   "source": []
  },
  {
   "cell_type": "code",
   "execution_count": null,
   "metadata": {},
   "outputs": [],
   "source": []
  },
  {
   "cell_type": "code",
   "execution_count": 83,
   "metadata": {},
   "outputs": [],
   "source": [
    "from sklearn.feature_extraction.text import TfidfVectorizer\n",
    "from sklearn.cluster import KMeans\n",
    "from sklearn.metrics import adjusted_rand_score\n",
    "\n",
    "documents = [\"This little kitty came to play when I was eating at a restaurant.\",\n",
    "             \"Merley has the best squooshy kitten belly.\",\n",
    "             \"Google Translate app is incredible.\",\n",
    "             \"If you open 100 tab in google you get a smiley face.\",\n",
    "             \"Best cat photo I've ever taken.\",\n",
    "             \"Climbing ninja cat.\",\n",
    "             \"Impressed with google map feedback.\",\n",
    "             \"Key promoter extension for Google Chrome.\"]\n",
    "\n",
    "vectorizer = TfidfVectorizer(stop_words='english')\n",
    "X = vectorizer.fit_transform(documents)\n",
    "\n",
    "\n",
    " "
   ]
  },
  {
   "cell_type": "code",
   "execution_count": 84,
   "metadata": {},
   "outputs": [
    {
     "data": {
      "text/plain": [
       "KMeans(algorithm='auto', copy_x=True, init='k-means++', max_iter=100,\n",
       "    n_clusters=2, n_init=1, n_jobs=1, precompute_distances='auto',\n",
       "    random_state=None, tol=0.0001, verbose=0)"
      ]
     },
     "execution_count": 84,
     "metadata": {},
     "output_type": "execute_result"
    }
   ],
   "source": [
    "true_k = 2\n",
    "model = KMeans(n_clusters=true_k, init='k-means++', max_iter=100, n_init=1)\n",
    "model.fit(X)\n",
    "\n"
   ]
  },
  {
   "cell_type": "code",
   "execution_count": 85,
   "metadata": {},
   "outputs": [
    {
     "name": "stdout",
     "output_type": "stream",
     "text": [
      "Top terms per cluster:\n"
     ]
    }
   ],
   "source": [
    "print(\"Top terms per cluster:\")\n"
   ]
  },
  {
   "cell_type": "code",
   "execution_count": 86,
   "metadata": {},
   "outputs": [
    {
     "name": "stdout",
     "output_type": "stream",
     "text": [
      "Cluster 0:\n",
      " google\n",
      " ninja\n",
      " climbing\n",
      " app\n",
      " feedback\n",
      " impressed\n",
      " incredible\n",
      " translate\n",
      " map\n",
      " cat\n",
      "Cluster 1:\n",
      " best\n",
      " ve\n",
      " photo\n",
      " taken\n",
      " belly\n",
      " merley\n",
      " kitten\n",
      " squooshy\n",
      " restaurant\n",
      " came\n"
     ]
    }
   ],
   "source": [
    "order_centroids = model.cluster_centers_.argsort()[:, ::-1]\n",
    "terms = vectorizer.get_feature_names()\n",
    "for i in range(true_k):\n",
    "    print(\"Cluster %d:\" % i),\n",
    "    for ind in order_centroids[i, :10]:\n",
    "        print(' %s' % terms[ind]),\n",
    "    print\n",
    "\n"
   ]
  },
  {
   "cell_type": "code",
   "execution_count": null,
   "metadata": {},
   "outputs": [],
   "source": [
    "print(\"\\n\")\n",
    "print(\"Prediction\")\n",
    "\n",
    "Y = vectorizer.transform([\"chrome browser to open.\"])\n",
    "prediction = model.predict(Y)\n",
    "print(prediction)\n",
    "\n",
    "Y = vectorizer.transform([\"My cat is hungry.\"])\n",
    "prediction = model.predict(Y)\n",
    "print(prediction)"
   ]
  }
 ],
 "metadata": {
  "kernelspec": {
   "display_name": "Python 3",
   "language": "python",
   "name": "python3"
  },
  "language_info": {
   "codemirror_mode": {
    "name": "ipython",
    "version": 3
   },
   "file_extension": ".py",
   "mimetype": "text/x-python",
   "name": "python",
   "nbconvert_exporter": "python",
   "pygments_lexer": "ipython3",
   "version": "3.6.5"
  }
 },
 "nbformat": 4,
 "nbformat_minor": 2
}
